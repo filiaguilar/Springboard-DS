{
 "cells": [
  {
   "cell_type": "markdown",
   "metadata": {},
   "source": [
    "# Capstone 2 Data Wrangling"
   ]
  },
  {
   "cell_type": "markdown",
   "metadata": {},
   "source": [
    "### Data Collection / Data Organization"
   ]
  },
  {
   "cell_type": "code",
   "execution_count": 1,
   "metadata": {},
   "outputs": [],
   "source": [
    "import pandas as pd\n",
    "import os\n",
    "import numpy as np\n",
    "import matplotlib.pyplot as plt"
   ]
  },
  {
   "cell_type": "code",
   "execution_count": 2,
   "metadata": {},
   "outputs": [
    {
     "name": "stdout",
     "output_type": "stream",
     "text": [
      "C:\\Users\\filia\\Springboard DS\\Capstone 2\\US Births 2018\n",
      "['.ipynb_checkpoints', 'Cap2_Clean.csv', 'Capstone 2 Data Wrangling.ipynb', 'Column Label Def.pdf', 'US_births(2018).csv']\n"
     ]
    }
   ],
   "source": [
    "print(os.getcwd())\n",
    "print(os.listdir())"
   ]
  },
  {
   "cell_type": "code",
   "execution_count": 3,
   "metadata": {},
   "outputs": [
    {
     "name": "stderr",
     "output_type": "stream",
     "text": [
      "C:\\Users\\filia\\Anaconda3\\lib\\site-packages\\IPython\\core\\interactiveshell.py:3063: DtypeWarning: Columns (7) have mixed types.Specify dtype option on import or set low_memory=False.\n",
      "  interactivity=interactivity, compiler=compiler, result=result)\n"
     ]
    }
   ],
   "source": [
    "df = pd.read_csv('US_births(2018).csv')"
   ]
  },
  {
   "cell_type": "markdown",
   "metadata": {},
   "source": [
    "### Data Definition"
   ]
  },
  {
   "cell_type": "code",
   "execution_count": 4,
   "metadata": {},
   "outputs": [
    {
     "data": {
      "text/plain": [
       "Index(['ATTEND', 'BFACIL', 'BMI', 'CIG_0', 'DBWT', 'DLMP_MM', 'DLMP_YY',\n",
       "       'DMAR', 'DOB_MM', 'DOB_TT', 'DOB_WK', 'DOB_YY', 'DWgt_R', 'FAGECOMB',\n",
       "       'FEDUC', 'FHISPX', 'FRACE15', 'FRACE31', 'FRACE6', 'ILLB_R', 'ILOP_R',\n",
       "       'ILP_R', 'IMP_SEX', 'IP_GON', 'LD_INDL', 'MAGER', 'MAGE_IMPFLG',\n",
       "       'MAR_IMP', 'MBSTATE_REC', 'MEDUC', 'MHISPX', 'MM_AICU', 'MRACE15',\n",
       "       'MRACE31', 'MRACEIMP', 'MRAVE6', 'MTRAN', 'M_Ht_In', 'NO_INFEC',\n",
       "       'NO_MMORB', 'NO_RISKS', 'PAY', 'PAY_REC', 'PRECARE', 'PREVIS',\n",
       "       'PRIORDEAD', 'PRIORLIVE', 'PRIORTERM', 'PWgt_R', 'RDMETH_REC',\n",
       "       'RESTATUS', 'RF_CESAR', 'RF_CESARN', 'SEX', 'WTGAIN'],\n",
       "      dtype='object')"
      ]
     },
     "execution_count": 4,
     "metadata": {},
     "output_type": "execute_result"
    }
   ],
   "source": [
    "df.columns"
   ]
  },
  {
   "cell_type": "code",
   "execution_count": 5,
   "metadata": {},
   "outputs": [
    {
     "data": {
      "text/plain": [
       "(3801534, 20)"
      ]
     },
     "execution_count": 5,
     "metadata": {},
     "output_type": "execute_result"
    }
   ],
   "source": [
    "feat_of_int = ['BMI', \n",
    "               'CIG_0', \n",
    "               'DBWT', \n",
    "               'DMAR', \n",
    "               'DOB_MM', \n",
    "               'DOB_TT', \n",
    "               'DOB_WK', \n",
    "               'DWgt_R',\n",
    "               'ILOP_R',\n",
    "               'MAGER',\n",
    "               'MEDUC',\n",
    "               'MHISPX',\n",
    "               'MRAVE6',\n",
    "               'M_Ht_In',\n",
    "               'NO_RISKS',\n",
    "               'PRECARE',\n",
    "               'PREVIS',\n",
    "               'PWgt_R',\n",
    "               'SEX',\n",
    "               'WTGAIN'\n",
    "              ]\n",
    "df = df[feat_of_int]\n",
    "df.shape"
   ]
  },
  {
   "cell_type": "code",
   "execution_count": 6,
   "metadata": {},
   "outputs": [
    {
     "name": "stdout",
     "output_type": "stream",
     "text": [
      "<class 'pandas.core.frame.DataFrame'>\n",
      "RangeIndex: 3801534 entries, 0 to 3801533\n",
      "Data columns (total 20 columns):\n",
      " #   Column    Dtype  \n",
      "---  ------    -----  \n",
      " 0   BMI       float64\n",
      " 1   CIG_0     int64  \n",
      " 2   DBWT      int64  \n",
      " 3   DMAR      object \n",
      " 4   DOB_MM    int64  \n",
      " 5   DOB_TT    int64  \n",
      " 6   DOB_WK    int64  \n",
      " 7   DWgt_R    int64  \n",
      " 8   ILOP_R    int64  \n",
      " 9   MAGER     int64  \n",
      " 10  MEDUC     int64  \n",
      " 11  MHISPX    int64  \n",
      " 12  MRAVE6    int64  \n",
      " 13  M_Ht_In   int64  \n",
      " 14  NO_RISKS  int64  \n",
      " 15  PRECARE   int64  \n",
      " 16  PREVIS    int64  \n",
      " 17  PWgt_R    int64  \n",
      " 18  SEX       object \n",
      " 19  WTGAIN    int64  \n",
      "dtypes: float64(1), int64(17), object(2)\n",
      "memory usage: 580.1+ MB\n"
     ]
    }
   ],
   "source": [
    "df.info()"
   ]
  },
  {
   "cell_type": "code",
   "execution_count": 7,
   "metadata": {},
   "outputs": [
    {
     "data": {
      "text/html": [
       "<div>\n",
       "<style scoped>\n",
       "    .dataframe tbody tr th:only-of-type {\n",
       "        vertical-align: middle;\n",
       "    }\n",
       "\n",
       "    .dataframe tbody tr th {\n",
       "        vertical-align: top;\n",
       "    }\n",
       "\n",
       "    .dataframe thead th {\n",
       "        text-align: right;\n",
       "    }\n",
       "</style>\n",
       "<table border=\"1\" class=\"dataframe\">\n",
       "  <thead>\n",
       "    <tr style=\"text-align: right;\">\n",
       "      <th></th>\n",
       "      <th>count</th>\n",
       "      <th>mean</th>\n",
       "      <th>std</th>\n",
       "      <th>min</th>\n",
       "      <th>25%</th>\n",
       "      <th>50%</th>\n",
       "      <th>75%</th>\n",
       "      <th>max</th>\n",
       "    </tr>\n",
       "  </thead>\n",
       "  <tbody>\n",
       "    <tr>\n",
       "      <th>BMI</th>\n",
       "      <td>3801534.0</td>\n",
       "      <td>28.817006</td>\n",
       "      <td>12.723501</td>\n",
       "      <td>13.0</td>\n",
       "      <td>22.3</td>\n",
       "      <td>25.8</td>\n",
       "      <td>31.1</td>\n",
       "      <td>99.9</td>\n",
       "    </tr>\n",
       "    <tr>\n",
       "      <th>CIG_0</th>\n",
       "      <td>3801534.0</td>\n",
       "      <td>1.573716</td>\n",
       "      <td>8.244679</td>\n",
       "      <td>0.0</td>\n",
       "      <td>0.0</td>\n",
       "      <td>0.0</td>\n",
       "      <td>0.0</td>\n",
       "      <td>99.0</td>\n",
       "    </tr>\n",
       "    <tr>\n",
       "      <th>DBWT</th>\n",
       "      <td>3801534.0</td>\n",
       "      <td>3266.895145</td>\n",
       "      <td>619.442283</td>\n",
       "      <td>227.0</td>\n",
       "      <td>2960.0</td>\n",
       "      <td>3300.0</td>\n",
       "      <td>3629.0</td>\n",
       "      <td>9999.0</td>\n",
       "    </tr>\n",
       "    <tr>\n",
       "      <th>DOB_MM</th>\n",
       "      <td>3801534.0</td>\n",
       "      <td>6.560880</td>\n",
       "      <td>3.419287</td>\n",
       "      <td>1.0</td>\n",
       "      <td>4.0</td>\n",
       "      <td>7.0</td>\n",
       "      <td>9.0</td>\n",
       "      <td>12.0</td>\n",
       "    </tr>\n",
       "    <tr>\n",
       "      <th>DOB_TT</th>\n",
       "      <td>3801534.0</td>\n",
       "      <td>1229.176372</td>\n",
       "      <td>636.605763</td>\n",
       "      <td>0.0</td>\n",
       "      <td>759.0</td>\n",
       "      <td>1236.0</td>\n",
       "      <td>1733.0</td>\n",
       "      <td>9999.0</td>\n",
       "    </tr>\n",
       "    <tr>\n",
       "      <th>DOB_WK</th>\n",
       "      <td>3801534.0</td>\n",
       "      <td>4.059289</td>\n",
       "      <td>1.852540</td>\n",
       "      <td>1.0</td>\n",
       "      <td>3.0</td>\n",
       "      <td>4.0</td>\n",
       "      <td>6.0</td>\n",
       "      <td>7.0</td>\n",
       "    </tr>\n",
       "    <tr>\n",
       "      <th>DWgt_R</th>\n",
       "      <td>3801534.0</td>\n",
       "      <td>200.274442</td>\n",
       "      <td>105.995646</td>\n",
       "      <td>100.0</td>\n",
       "      <td>160.0</td>\n",
       "      <td>182.0</td>\n",
       "      <td>212.0</td>\n",
       "      <td>999.0</td>\n",
       "    </tr>\n",
       "    <tr>\n",
       "      <th>ILOP_R</th>\n",
       "      <td>3801534.0</td>\n",
       "      <td>751.083981</td>\n",
       "      <td>327.586702</td>\n",
       "      <td>3.0</td>\n",
       "      <td>888.0</td>\n",
       "      <td>888.0</td>\n",
       "      <td>888.0</td>\n",
       "      <td>999.0</td>\n",
       "    </tr>\n",
       "    <tr>\n",
       "      <th>MAGER</th>\n",
       "      <td>3801534.0</td>\n",
       "      <td>29.009025</td>\n",
       "      <td>5.806026</td>\n",
       "      <td>12.0</td>\n",
       "      <td>25.0</td>\n",
       "      <td>29.0</td>\n",
       "      <td>33.0</td>\n",
       "      <td>50.0</td>\n",
       "    </tr>\n",
       "    <tr>\n",
       "      <th>MEDUC</th>\n",
       "      <td>3801534.0</td>\n",
       "      <td>4.412692</td>\n",
       "      <td>1.804158</td>\n",
       "      <td>1.0</td>\n",
       "      <td>3.0</td>\n",
       "      <td>4.0</td>\n",
       "      <td>6.0</td>\n",
       "      <td>9.0</td>\n",
       "    </tr>\n",
       "    <tr>\n",
       "      <th>MHISPX</th>\n",
       "      <td>3801534.0</td>\n",
       "      <td>0.649585</td>\n",
       "      <td>1.579992</td>\n",
       "      <td>0.0</td>\n",
       "      <td>0.0</td>\n",
       "      <td>0.0</td>\n",
       "      <td>0.0</td>\n",
       "      <td>9.0</td>\n",
       "    </tr>\n",
       "    <tr>\n",
       "      <th>MRAVE6</th>\n",
       "      <td>3801534.0</td>\n",
       "      <td>1.522771</td>\n",
       "      <td>1.112219</td>\n",
       "      <td>1.0</td>\n",
       "      <td>1.0</td>\n",
       "      <td>1.0</td>\n",
       "      <td>2.0</td>\n",
       "      <td>6.0</td>\n",
       "    </tr>\n",
       "    <tr>\n",
       "      <th>M_Ht_In</th>\n",
       "      <td>3801534.0</td>\n",
       "      <td>64.306406</td>\n",
       "      <td>3.788526</td>\n",
       "      <td>30.0</td>\n",
       "      <td>62.0</td>\n",
       "      <td>64.0</td>\n",
       "      <td>66.0</td>\n",
       "      <td>99.0</td>\n",
       "    </tr>\n",
       "    <tr>\n",
       "      <th>NO_RISKS</th>\n",
       "      <td>3801534.0</td>\n",
       "      <td>0.693329</td>\n",
       "      <td>0.518586</td>\n",
       "      <td>0.0</td>\n",
       "      <td>0.0</td>\n",
       "      <td>1.0</td>\n",
       "      <td>1.0</td>\n",
       "      <td>9.0</td>\n",
       "    </tr>\n",
       "    <tr>\n",
       "      <th>PRECARE</th>\n",
       "      <td>3801534.0</td>\n",
       "      <td>5.320432</td>\n",
       "      <td>15.126827</td>\n",
       "      <td>0.0</td>\n",
       "      <td>2.0</td>\n",
       "      <td>3.0</td>\n",
       "      <td>3.0</td>\n",
       "      <td>99.0</td>\n",
       "    </tr>\n",
       "    <tr>\n",
       "      <th>PREVIS</th>\n",
       "      <td>3801534.0</td>\n",
       "      <td>13.496569</td>\n",
       "      <td>14.346746</td>\n",
       "      <td>0.0</td>\n",
       "      <td>9.0</td>\n",
       "      <td>12.0</td>\n",
       "      <td>14.0</td>\n",
       "      <td>99.0</td>\n",
       "    </tr>\n",
       "    <tr>\n",
       "      <th>PWgt_R</th>\n",
       "      <td>3801534.0</td>\n",
       "      <td>176.002110</td>\n",
       "      <td>125.051060</td>\n",
       "      <td>75.0</td>\n",
       "      <td>130.0</td>\n",
       "      <td>150.0</td>\n",
       "      <td>182.0</td>\n",
       "      <td>999.0</td>\n",
       "    </tr>\n",
       "    <tr>\n",
       "      <th>WTGAIN</th>\n",
       "      <td>3801534.0</td>\n",
       "      <td>31.616573</td>\n",
       "      <td>19.154345</td>\n",
       "      <td>0.0</td>\n",
       "      <td>20.0</td>\n",
       "      <td>30.0</td>\n",
       "      <td>40.0</td>\n",
       "      <td>99.0</td>\n",
       "    </tr>\n",
       "  </tbody>\n",
       "</table>\n",
       "</div>"
      ],
      "text/plain": [
       "              count         mean         std    min     25%     50%     75%  \\\n",
       "BMI       3801534.0    28.817006   12.723501   13.0    22.3    25.8    31.1   \n",
       "CIG_0     3801534.0     1.573716    8.244679    0.0     0.0     0.0     0.0   \n",
       "DBWT      3801534.0  3266.895145  619.442283  227.0  2960.0  3300.0  3629.0   \n",
       "DOB_MM    3801534.0     6.560880    3.419287    1.0     4.0     7.0     9.0   \n",
       "DOB_TT    3801534.0  1229.176372  636.605763    0.0   759.0  1236.0  1733.0   \n",
       "DOB_WK    3801534.0     4.059289    1.852540    1.0     3.0     4.0     6.0   \n",
       "DWgt_R    3801534.0   200.274442  105.995646  100.0   160.0   182.0   212.0   \n",
       "ILOP_R    3801534.0   751.083981  327.586702    3.0   888.0   888.0   888.0   \n",
       "MAGER     3801534.0    29.009025    5.806026   12.0    25.0    29.0    33.0   \n",
       "MEDUC     3801534.0     4.412692    1.804158    1.0     3.0     4.0     6.0   \n",
       "MHISPX    3801534.0     0.649585    1.579992    0.0     0.0     0.0     0.0   \n",
       "MRAVE6    3801534.0     1.522771    1.112219    1.0     1.0     1.0     2.0   \n",
       "M_Ht_In   3801534.0    64.306406    3.788526   30.0    62.0    64.0    66.0   \n",
       "NO_RISKS  3801534.0     0.693329    0.518586    0.0     0.0     1.0     1.0   \n",
       "PRECARE   3801534.0     5.320432   15.126827    0.0     2.0     3.0     3.0   \n",
       "PREVIS    3801534.0    13.496569   14.346746    0.0     9.0    12.0    14.0   \n",
       "PWgt_R    3801534.0   176.002110  125.051060   75.0   130.0   150.0   182.0   \n",
       "WTGAIN    3801534.0    31.616573   19.154345    0.0    20.0    30.0    40.0   \n",
       "\n",
       "             max  \n",
       "BMI         99.9  \n",
       "CIG_0       99.0  \n",
       "DBWT      9999.0  \n",
       "DOB_MM      12.0  \n",
       "DOB_TT    9999.0  \n",
       "DOB_WK       7.0  \n",
       "DWgt_R     999.0  \n",
       "ILOP_R     999.0  \n",
       "MAGER       50.0  \n",
       "MEDUC        9.0  \n",
       "MHISPX       9.0  \n",
       "MRAVE6       6.0  \n",
       "M_Ht_In     99.0  \n",
       "NO_RISKS     9.0  \n",
       "PRECARE     99.0  \n",
       "PREVIS      99.0  \n",
       "PWgt_R     999.0  \n",
       "WTGAIN      99.0  "
      ]
     },
     "execution_count": 7,
     "metadata": {},
     "output_type": "execute_result"
    }
   ],
   "source": [
    "df.describe().T"
   ]
  },
  {
   "cell_type": "code",
   "execution_count": 8,
   "metadata": {},
   "outputs": [
    {
     "data": {
      "text/plain": [
       "BMI         0\n",
       "CIG_0       0\n",
       "DBWT        0\n",
       "DMAR        0\n",
       "DOB_MM      0\n",
       "DOB_TT      0\n",
       "DOB_WK      0\n",
       "DWgt_R      0\n",
       "ILOP_R      0\n",
       "MAGER       0\n",
       "MEDUC       0\n",
       "MHISPX      0\n",
       "MRAVE6      0\n",
       "M_Ht_In     0\n",
       "NO_RISKS    0\n",
       "PRECARE     0\n",
       "PREVIS      0\n",
       "PWgt_R      0\n",
       "SEX         0\n",
       "WTGAIN      0\n",
       "dtype: int64"
      ]
     },
     "execution_count": 8,
     "metadata": {},
     "output_type": "execute_result"
    }
   ],
   "source": [
    "''' No apperant nulls, however in actuallity the max values of 9 or several digits of 9,\n",
    "are what the metadata depicted as missing/unknown values or nulls. '''\n",
    "df.isnull().sum()"
   ]
  },
  {
   "cell_type": "code",
   "execution_count": 9,
   "metadata": {},
   "outputs": [
    {
     "data": {
      "image/png": "[encoded data removed]",
      "text/plain": [
       "<Figure size 864x1080 with 1 Axes>"
      ]
     },
     "metadata": {
      "needs_background": "light"
     },
     "output_type": "display_data"
    }
   ],
   "source": [
    "df.boxplot(grid=False, vert=False,fontsize=15, figsize=(12,15))\n",
    "plt.show()"
   ]
  },
  {
   "cell_type": "markdown",
   "metadata": {},
   "source": [
    "### Data Cleaning\n",
    "Note: Data appears to not have any null values but metadata reports null/unknown values are depicted by the number 9 or U in column values"
   ]
  },
  {
   "cell_type": "code",
   "execution_count": 10,
   "metadata": {},
   "outputs": [
    {
     "name": "stdout",
     "output_type": "stream",
     "text": [
      "          Percent_of_Nulls\n",
      "ILOP_R            9.945406\n",
      "WTGAIN            3.082650\n",
      "PRECARE           2.516668\n",
      "PREVIS            2.515221\n",
      "BMI               2.267506\n",
      "PWgt_R            2.013240\n",
      "DWgt_R            1.474352\n",
      "MEDUC             1.294793\n",
      "MHISPX            0.895375\n",
      "M_Ht_In           0.525604\n",
      "CIG_0             0.477965\n",
      "NO_RISKS          0.078205\n",
      "DBWT              0.077863\n",
      "DOB_TT            0.008312\n"
     ]
    },
    {
     "data": {
      "image/png": "[encoded data removed]",
      "text/plain": [
       "<Figure size 432x288 with 1 Axes>"
      ]
     },
     "metadata": {
      "needs_background": "light"
     },
     "output_type": "display_data"
    }
   ],
   "source": [
    "#Defined a function to extract null values from dataset and depict percentage of nulls within columns\n",
    "find_nulls = ['BMI','CIG_0','DBWT','DOB_TT','ILOP_R','DWgt_R','MEDUC','MHISPX','M_Ht_In','NO_RISKS','PRECARE','PREVIS','PWgt_R','WTGAIN']\n",
    "\n",
    "def percent_of_null(lis):\n",
    "    d = {}\n",
    "    \n",
    "    for col in lis:\n",
    "        if col == 'BMI':\n",
    "            null = df[df[col] == 99.9]\n",
    "            p_of_null = (len(null)/len(df[col]))*100\n",
    "            d[col] = [p_of_null]\n",
    "        elif col in ['CIG_0', 'M_Ht_In','PRECARE','PREVIS','WTGAIN']:\n",
    "            null = df[df[col] == 99]\n",
    "            p_of_null = (len(null)/len(df[col]))*100\n",
    "            d[col] = [p_of_null]\n",
    "        elif col in ['DBWT', 'DOB_TT']:\n",
    "            null = df[df[col] == 9999]\n",
    "            p_of_null = (len(null)/len(df[col]))*100\n",
    "            d[col] = [p_of_null]\n",
    "        elif col in ['DWgt_R','ILOP_R','PWgt_R']:\n",
    "            null = df[df[col] == 999]\n",
    "            p_of_null = (len(null)/len(df[col]))*100\n",
    "            d[col] = [p_of_null]\n",
    "        elif col in ['MEDUC','MHISPX','NO_RISKS']:\n",
    "            null = df[df[col] == 9]\n",
    "            p_of_null = (len(null)/len(df[col]))*100\n",
    "            d[col] = [p_of_null]\n",
    " \n",
    "    pNulls = pd.DataFrame(d).T\n",
    "    pNulls.columns = ['Percent_of_Nulls']\n",
    "    pNulls = pNulls.sort_values(by='Percent_of_Nulls', ascending=False)\n",
    "    print(pNulls)\n",
    "    pNulls.plot(kind='bar')\n",
    "    plt.title('Percent of Nulls')\n",
    "    plt.show()\n",
    "    \n",
    "\n",
    "percent_of_null(find_nulls)\n",
    "#Percent of null values in each column is 3% or less, except for the interval since last pregnancy"
   ]
  },
  {
   "cell_type": "markdown",
   "metadata": {},
   "source": [
    "#### Explore only two features that are non-numeric for nulls, Marital Status (DMAR) and Sex of Infant (SEX)"
   ]
  },
  {
   "cell_type": "code",
   "execution_count": 11,
   "metadata": {},
   "outputs": [
    {
     "name": "stdout",
     "output_type": "stream",
     "text": [
      "[1 2 '2' '1' ' ']\n",
      "1    1994221\n",
      "2    1332177\n",
      "      456083\n",
      "1      13801\n",
      "2       5252\n",
      "Name: DMAR, dtype: int64\n"
     ]
    }
   ],
   "source": [
    "#Expect values in DMAR column to be either 1 or 2, mixed dtypes of 1, 2 and even a blank\n",
    "print(df['DMAR'].unique())\n",
    "print(df['DMAR'].value_counts())"
   ]
  },
  {
   "cell_type": "code",
   "execution_count": 12,
   "metadata": {},
   "outputs": [
    {
     "name": "stdout",
     "output_type": "stream",
     "text": [
      "[1 2]\n",
      "1    2464105\n",
      "2    1337429\n",
      "Name: DMAR, dtype: int64\n",
      "3801534\n"
     ]
    }
   ],
   "source": [
    "#Blank is missing, values representing marital status are binary 1 and 2 ffill to fix blanks\n",
    "df['DMAR'] = df.DMAR.replace(' ', method='ffill')\n",
    "df['DMAR'] = pd.to_numeric(df.DMAR, errors='coerce')\n",
    "\n",
    "print(df.DMAR.unique())\n",
    "print(df.DMAR.value_counts())\n",
    "print(df.DMAR.value_counts().sum())"
   ]
  },
  {
   "cell_type": "code",
   "execution_count": 13,
   "metadata": {},
   "outputs": [
    {
     "name": "stdout",
     "output_type": "stream",
     "text": [
      "['M' 'F']\n",
      "M    1943273\n",
      "F    1858261\n",
      "Name: SEX, dtype: int64\n",
      "3801534\n"
     ]
    }
   ],
   "source": [
    "#Verify M F characters for SEX column\n",
    "print(df.SEX.unique())\n",
    "print(df.SEX.value_counts())\n",
    "print(df.SEX.value_counts().sum())"
   ]
  },
  {
   "cell_type": "markdown",
   "metadata": {},
   "source": [
    "#### Address the other numeric columns containing null values"
   ]
  },
  {
   "cell_type": "code",
   "execution_count": 14,
   "metadata": {},
   "outputs": [],
   "source": [
    "#Replace the BMI null values with the mean of series since it's only 2%\n",
    "df['BMI'] = df.BMI.replace(99.9, round(df.BMI.mean(),1))"
   ]
  },
  {
   "cell_type": "code",
   "execution_count": 15,
   "metadata": {},
   "outputs": [],
   "source": [
    "#About 0.5% are nulls for CIG_0, replace with the majority of the values which is 0\n",
    "df['CIG_0'] = df.CIG_0.replace(99, 0)"
   ]
  },
  {
   "cell_type": "code",
   "execution_count": 16,
   "metadata": {},
   "outputs": [],
   "source": [
    "#Replaced birth weight (grams) with mean of series\n",
    "df['DBWT'] = df.DBWT.replace(9999, int(df.DBWT.mean()))"
   ]
  },
  {
   "cell_type": "code",
   "execution_count": 17,
   "metadata": {},
   "outputs": [],
   "source": [
    "#Replaced time of birth using ffill due to low % of nulls within column\n",
    "df['DOB_TT'] = df.DOB_TT.replace(9999, method='ffill')"
   ]
  },
  {
   "cell_type": "code",
   "execution_count": 18,
   "metadata": {},
   "outputs": [],
   "source": [
    "#Replaced mother's delivery weight (lbs) with forward fill\n",
    "df['DWgt_R'] = df.DWgt_R.replace(999, method='ffill')"
   ]
  },
  {
   "cell_type": "code",
   "execution_count": 19,
   "metadata": {},
   "outputs": [
    {
     "name": "stdout",
     "output_type": "stream",
     "text": [
      "(3062922, 20)\n"
     ]
    }
   ],
   "source": [
    "#Replaced interval since last other pregnancy if any with forward fill\n",
    "df['ILOP_R'] = df.ILOP_R.replace(999, method='ffill')\n",
    "print(df[df['ILOP_R']== 888].shape)"
   ]
  },
  {
   "cell_type": "code",
   "execution_count": 20,
   "metadata": {},
   "outputs": [],
   "source": [
    "#Replaced education of mothers with forward fill\n",
    "df['MEDUC'] = df.MEDUC.replace(9, method='ffill')"
   ]
  },
  {
   "cell_type": "code",
   "execution_count": 21,
   "metadata": {},
   "outputs": [],
   "source": [
    "#Replaced mother's hispanic origin nulls to default value of 'other' 6\n",
    "df['MHISPX'] = df.MHISPX.replace(9, 6)"
   ]
  },
  {
   "cell_type": "code",
   "execution_count": 22,
   "metadata": {},
   "outputs": [],
   "source": [
    "#Replaced mother's height (inches) with mean of series\n",
    "df['M_Ht_In'] = df.M_Ht_In.replace(99, int(df.M_Ht_In.mean()))"
   ]
  },
  {
   "cell_type": "code",
   "execution_count": 23,
   "metadata": {},
   "outputs": [],
   "source": [
    "#Replaced no risks, binary true/false, with forward fill\n",
    "df['NO_RISKS'] = df.NO_RISKS.replace(9, method='ffill')"
   ]
  },
  {
   "cell_type": "code",
   "execution_count": 24,
   "metadata": {},
   "outputs": [],
   "source": [
    "#Replaced month prenatal care began with forward fill\n",
    "df['PRECARE'] = df.PRECARE.replace(99, method='ffill')"
   ]
  },
  {
   "cell_type": "code",
   "execution_count": 25,
   "metadata": {},
   "outputs": [],
   "source": [
    "#Replaced number of prenatal visits with mean of series\n",
    "df['PREVIS'] = df.PREVIS.replace(99, int(df.PREVIS.mean()))"
   ]
  },
  {
   "cell_type": "code",
   "execution_count": 26,
   "metadata": {},
   "outputs": [],
   "source": [
    "#Replaced mother's pre-pregnancy weight (lbs) with forward fill\n",
    "df['PWgt_R'] = df.PWgt_R.replace(999, method='ffill')"
   ]
  },
  {
   "cell_type": "code",
   "execution_count": 27,
   "metadata": {},
   "outputs": [],
   "source": [
    "#Replaced weight gain by mother (lbs) with mean of series\n",
    "df['WTGAIN'] = df.WTGAIN.replace(99, int(df.WTGAIN.mean()))"
   ]
  },
  {
   "cell_type": "markdown",
   "metadata": {},
   "source": [
    "#### Drop duplicates and revised clean data"
   ]
  },
  {
   "cell_type": "code",
   "execution_count": 28,
   "metadata": {},
   "outputs": [
    {
     "name": "stdout",
     "output_type": "stream",
     "text": [
      "(3801534, 20)\n"
     ]
    },
    {
     "data": {
      "text/plain": [
       "(3801396, 20)"
      ]
     },
     "execution_count": 28,
     "metadata": {},
     "output_type": "execute_result"
    }
   ],
   "source": [
    "#Shape before dropping duplicates\n",
    "print(df.shape)\n",
    "\n",
    "#Drop duplicates\n",
    "df = df.drop_duplicates()\n",
    "\n",
    "#Shape after dropping duplicates\n",
    "df.shape"
   ]
  },
  {
   "cell_type": "code",
   "execution_count": 29,
   "metadata": {},
   "outputs": [
    {
     "data": {
      "text/html": [
       "<div>\n",
       "<style scoped>\n",
       "    .dataframe tbody tr th:only-of-type {\n",
       "        vertical-align: middle;\n",
       "    }\n",
       "\n",
       "    .dataframe tbody tr th {\n",
       "        vertical-align: top;\n",
       "    }\n",
       "\n",
       "    .dataframe thead th {\n",
       "        text-align: right;\n",
       "    }\n",
       "</style>\n",
       "<table border=\"1\" class=\"dataframe\">\n",
       "  <thead>\n",
       "    <tr style=\"text-align: right;\">\n",
       "      <th></th>\n",
       "      <th>count</th>\n",
       "      <th>mean</th>\n",
       "      <th>std</th>\n",
       "      <th>min</th>\n",
       "      <th>25%</th>\n",
       "      <th>50%</th>\n",
       "      <th>75%</th>\n",
       "      <th>max</th>\n",
       "    </tr>\n",
       "  </thead>\n",
       "  <tbody>\n",
       "    <tr>\n",
       "      <th>BMI</th>\n",
       "      <td>3801396.0</td>\n",
       "      <td>27.204772</td>\n",
       "      <td>6.686972</td>\n",
       "      <td>13.0</td>\n",
       "      <td>22.3</td>\n",
       "      <td>25.8</td>\n",
       "      <td>30.5</td>\n",
       "      <td>69.9</td>\n",
       "    </tr>\n",
       "    <tr>\n",
       "      <th>CIG_0</th>\n",
       "      <td>3801396.0</td>\n",
       "      <td>1.100545</td>\n",
       "      <td>4.732363</td>\n",
       "      <td>0.0</td>\n",
       "      <td>0.0</td>\n",
       "      <td>0.0</td>\n",
       "      <td>0.0</td>\n",
       "      <td>98.0</td>\n",
       "    </tr>\n",
       "    <tr>\n",
       "      <th>DBWT</th>\n",
       "      <td>3801396.0</td>\n",
       "      <td>3261.686086</td>\n",
       "      <td>590.211428</td>\n",
       "      <td>227.0</td>\n",
       "      <td>2960.0</td>\n",
       "      <td>3300.0</td>\n",
       "      <td>3629.0</td>\n",
       "      <td>8165.0</td>\n",
       "    </tr>\n",
       "    <tr>\n",
       "      <th>DMAR</th>\n",
       "      <td>3801396.0</td>\n",
       "      <td>1.351812</td>\n",
       "      <td>0.477536</td>\n",
       "      <td>1.0</td>\n",
       "      <td>1.0</td>\n",
       "      <td>1.0</td>\n",
       "      <td>2.0</td>\n",
       "      <td>2.0</td>\n",
       "    </tr>\n",
       "    <tr>\n",
       "      <th>DOB_MM</th>\n",
       "      <td>3801396.0</td>\n",
       "      <td>6.560867</td>\n",
       "      <td>3.419281</td>\n",
       "      <td>1.0</td>\n",
       "      <td>4.0</td>\n",
       "      <td>7.0</td>\n",
       "      <td>9.0</td>\n",
       "      <td>12.0</td>\n",
       "    </tr>\n",
       "    <tr>\n",
       "      <th>DOB_TT</th>\n",
       "      <td>3801396.0</td>\n",
       "      <td>1228.447096</td>\n",
       "      <td>631.596446</td>\n",
       "      <td>0.0</td>\n",
       "      <td>759.0</td>\n",
       "      <td>1236.0</td>\n",
       "      <td>1733.0</td>\n",
       "      <td>2359.0</td>\n",
       "    </tr>\n",
       "    <tr>\n",
       "      <th>DOB_WK</th>\n",
       "      <td>3801396.0</td>\n",
       "      <td>4.059297</td>\n",
       "      <td>1.852542</td>\n",
       "      <td>1.0</td>\n",
       "      <td>3.0</td>\n",
       "      <td>4.0</td>\n",
       "      <td>6.0</td>\n",
       "      <td>7.0</td>\n",
       "    </tr>\n",
       "    <tr>\n",
       "      <th>DWgt_R</th>\n",
       "      <td>3801396.0</td>\n",
       "      <td>188.321845</td>\n",
       "      <td>41.392521</td>\n",
       "      <td>100.0</td>\n",
       "      <td>159.0</td>\n",
       "      <td>181.0</td>\n",
       "      <td>210.0</td>\n",
       "      <td>400.0</td>\n",
       "    </tr>\n",
       "    <tr>\n",
       "      <th>ILOP_R</th>\n",
       "      <td>3801396.0</td>\n",
       "      <td>724.526411</td>\n",
       "      <td>333.495492</td>\n",
       "      <td>3.0</td>\n",
       "      <td>888.0</td>\n",
       "      <td>888.0</td>\n",
       "      <td>888.0</td>\n",
       "      <td>888.0</td>\n",
       "    </tr>\n",
       "    <tr>\n",
       "      <th>MAGER</th>\n",
       "      <td>3801396.0</td>\n",
       "      <td>29.008990</td>\n",
       "      <td>5.806021</td>\n",
       "      <td>12.0</td>\n",
       "      <td>25.0</td>\n",
       "      <td>29.0</td>\n",
       "      <td>33.0</td>\n",
       "      <td>50.0</td>\n",
       "    </tr>\n",
       "    <tr>\n",
       "      <th>MEDUC</th>\n",
       "      <td>3801396.0</td>\n",
       "      <td>4.355860</td>\n",
       "      <td>1.737868</td>\n",
       "      <td>1.0</td>\n",
       "      <td>3.0</td>\n",
       "      <td>4.0</td>\n",
       "      <td>6.0</td>\n",
       "      <td>8.0</td>\n",
       "    </tr>\n",
       "    <tr>\n",
       "      <th>MHISPX</th>\n",
       "      <td>3801396.0</td>\n",
       "      <td>0.622728</td>\n",
       "      <td>1.458648</td>\n",
       "      <td>0.0</td>\n",
       "      <td>0.0</td>\n",
       "      <td>0.0</td>\n",
       "      <td>0.0</td>\n",
       "      <td>6.0</td>\n",
       "    </tr>\n",
       "    <tr>\n",
       "      <th>MRAVE6</th>\n",
       "      <td>3801396.0</td>\n",
       "      <td>1.522771</td>\n",
       "      <td>1.112221</td>\n",
       "      <td>1.0</td>\n",
       "      <td>1.0</td>\n",
       "      <td>1.0</td>\n",
       "      <td>2.0</td>\n",
       "      <td>6.0</td>\n",
       "    </tr>\n",
       "    <tr>\n",
       "      <th>M_Ht_In</th>\n",
       "      <td>3801396.0</td>\n",
       "      <td>64.122432</td>\n",
       "      <td>2.827219</td>\n",
       "      <td>30.0</td>\n",
       "      <td>62.0</td>\n",
       "      <td>64.0</td>\n",
       "      <td>66.0</td>\n",
       "      <td>78.0</td>\n",
       "    </tr>\n",
       "    <tr>\n",
       "      <th>NO_RISKS</th>\n",
       "      <td>3801396.0</td>\n",
       "      <td>0.686847</td>\n",
       "      <td>0.463776</td>\n",
       "      <td>0.0</td>\n",
       "      <td>0.0</td>\n",
       "      <td>1.0</td>\n",
       "      <td>1.0</td>\n",
       "      <td>1.0</td>\n",
       "    </tr>\n",
       "    <tr>\n",
       "      <th>PRECARE</th>\n",
       "      <td>3801396.0</td>\n",
       "      <td>2.902876</td>\n",
       "      <td>1.523973</td>\n",
       "      <td>0.0</td>\n",
       "      <td>2.0</td>\n",
       "      <td>3.0</td>\n",
       "      <td>3.0</td>\n",
       "      <td>10.0</td>\n",
       "    </tr>\n",
       "    <tr>\n",
       "      <th>PREVIS</th>\n",
       "      <td>3801396.0</td>\n",
       "      <td>11.333482</td>\n",
       "      <td>4.155947</td>\n",
       "      <td>0.0</td>\n",
       "      <td>9.0</td>\n",
       "      <td>12.0</td>\n",
       "      <td>13.0</td>\n",
       "      <td>98.0</td>\n",
       "    </tr>\n",
       "    <tr>\n",
       "      <th>PWgt_R</th>\n",
       "      <td>3801396.0</td>\n",
       "      <td>159.098812</td>\n",
       "      <td>41.916519</td>\n",
       "      <td>75.0</td>\n",
       "      <td>130.0</td>\n",
       "      <td>150.0</td>\n",
       "      <td>180.0</td>\n",
       "      <td>375.0</td>\n",
       "    </tr>\n",
       "    <tr>\n",
       "      <th>WTGAIN</th>\n",
       "      <td>3801396.0</td>\n",
       "      <td>29.520283</td>\n",
       "      <td>14.917599</td>\n",
       "      <td>0.0</td>\n",
       "      <td>20.0</td>\n",
       "      <td>30.0</td>\n",
       "      <td>38.0</td>\n",
       "      <td>98.0</td>\n",
       "    </tr>\n",
       "  </tbody>\n",
       "</table>\n",
       "</div>"
      ],
      "text/plain": [
       "              count         mean         std    min     25%     50%     75%  \\\n",
       "BMI       3801396.0    27.204772    6.686972   13.0    22.3    25.8    30.5   \n",
       "CIG_0     3801396.0     1.100545    4.732363    0.0     0.0     0.0     0.0   \n",
       "DBWT      3801396.0  3261.686086  590.211428  227.0  2960.0  3300.0  3629.0   \n",
       "DMAR      3801396.0     1.351812    0.477536    1.0     1.0     1.0     2.0   \n",
       "DOB_MM    3801396.0     6.560867    3.419281    1.0     4.0     7.0     9.0   \n",
       "DOB_TT    3801396.0  1228.447096  631.596446    0.0   759.0  1236.0  1733.0   \n",
       "DOB_WK    3801396.0     4.059297    1.852542    1.0     3.0     4.0     6.0   \n",
       "DWgt_R    3801396.0   188.321845   41.392521  100.0   159.0   181.0   210.0   \n",
       "ILOP_R    3801396.0   724.526411  333.495492    3.0   888.0   888.0   888.0   \n",
       "MAGER     3801396.0    29.008990    5.806021   12.0    25.0    29.0    33.0   \n",
       "MEDUC     3801396.0     4.355860    1.737868    1.0     3.0     4.0     6.0   \n",
       "MHISPX    3801396.0     0.622728    1.458648    0.0     0.0     0.0     0.0   \n",
       "MRAVE6    3801396.0     1.522771    1.112221    1.0     1.0     1.0     2.0   \n",
       "M_Ht_In   3801396.0    64.122432    2.827219   30.0    62.0    64.0    66.0   \n",
       "NO_RISKS  3801396.0     0.686847    0.463776    0.0     0.0     1.0     1.0   \n",
       "PRECARE   3801396.0     2.902876    1.523973    0.0     2.0     3.0     3.0   \n",
       "PREVIS    3801396.0    11.333482    4.155947    0.0     9.0    12.0    13.0   \n",
       "PWgt_R    3801396.0   159.098812   41.916519   75.0   130.0   150.0   180.0   \n",
       "WTGAIN    3801396.0    29.520283   14.917599    0.0    20.0    30.0    38.0   \n",
       "\n",
       "             max  \n",
       "BMI         69.9  \n",
       "CIG_0       98.0  \n",
       "DBWT      8165.0  \n",
       "DMAR         2.0  \n",
       "DOB_MM      12.0  \n",
       "DOB_TT    2359.0  \n",
       "DOB_WK       7.0  \n",
       "DWgt_R     400.0  \n",
       "ILOP_R     888.0  \n",
       "MAGER       50.0  \n",
       "MEDUC        8.0  \n",
       "MHISPX       6.0  \n",
       "MRAVE6       6.0  \n",
       "M_Ht_In     78.0  \n",
       "NO_RISKS     1.0  \n",
       "PRECARE     10.0  \n",
       "PREVIS      98.0  \n",
       "PWgt_R     375.0  \n",
       "WTGAIN      98.0  "
      ]
     },
     "execution_count": 29,
     "metadata": {},
     "output_type": "execute_result"
    }
   ],
   "source": [
    "df.describe().T"
   ]
  },
  {
   "cell_type": "code",
   "execution_count": 30,
   "metadata": {},
   "outputs": [
    {
     "data": {
      "image/png": "[encoded data removed]",
      "text/plain": [
       "<Figure size 864x1080 with 1 Axes>"
      ]
     },
     "metadata": {
      "needs_background": "light"
     },
     "output_type": "display_data"
    }
   ],
   "source": [
    "df.boxplot(grid=False, vert=False,fontsize=15, figsize=(12,15))\n",
    "plt.show()"
   ]
  },
  {
   "cell_type": "markdown",
   "metadata": {},
   "source": [
    "### Export Data to CSV for EDA"
   ]
  },
  {
   "cell_type": "code",
   "execution_count": 31,
   "metadata": {},
   "outputs": [],
   "source": [
    "df.to_csv('Cap2_Clean.csv')"
   ]
  },
  {
   "cell_type": "code",
   "execution_count": 32,
   "metadata": {},
   "outputs": [
    {
     "data": {
      "text/plain": [
       "['.ipynb_checkpoints',\n",
       " 'Cap2_Clean.csv',\n",
       " 'Capstone 2 Data Wrangling.ipynb',\n",
       " 'Column Label Def.pdf',\n",
       " 'US_births(2018).csv']"
      ]
     },
     "execution_count": 32,
     "metadata": {},
     "output_type": "execute_result"
    }
   ],
   "source": [
    "os.listdir()"
   ]
  }
 ],
 "metadata": {
  "kernelspec": {
   "display_name": "Python 3",
   "language": "python",
   "name": "python3"
  },
  "language_info": {
   "codemirror_mode": {
    "name": "ipython",
    "version": 3
   },
   "file_extension": ".py",
   "mimetype": "text/x-python",
   "name": "python",
   "nbconvert_exporter": "python",
   "pygments_lexer": "ipython3",
   "version": "3.7.6"
  }
 },
 "nbformat": 4,
 "nbformat_minor": 4
}
