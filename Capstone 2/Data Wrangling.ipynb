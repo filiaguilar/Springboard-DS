{
 "cells": [
  {
   "cell_type": "markdown",
   "metadata": {},
   "source": [
    "# Data Wrangling\n",
    "Video game reviews along with other pertinent features for the genres of role-playing, shooter and sports games of three gaming consoles (Xbox One, PS4, Nintendo Switch) were scraped from www.metacritic.com. 15 of the most recent user reviews for all games were scraped along with their individual user score and sentiment. However, to truly focus on the actual sentiment of the common user only the average review score and sentiment for all critics were considered.\n",
    "\n",
    "__Note:__ Not all gamers who submitted a review score left an actual review."
   ]
  },
  {
   "cell_type": "code",
   "execution_count": 1,
   "metadata": {},
   "outputs": [],
   "source": [
    "# Import libraries for data cleaning, text-preprocessing and EDA\n",
    "import pandas as pd\n",
    "import numpy as np\n",
    "import matplotlib.pyplot as plt\n",
    "import seaborn as sns\n",
    "\n",
    "%matplotlib inline"
   ]
  },
  {
   "cell_type": "code",
   "execution_count": 2,
   "metadata": {},
   "outputs": [
    {
     "data": {
      "text/html": [
       "<div>\n",
       "<style scoped>\n",
       "    .dataframe tbody tr th:only-of-type {\n",
       "        vertical-align: middle;\n",
       "    }\n",
       "\n",
       "    .dataframe tbody tr th {\n",
       "        vertical-align: top;\n",
       "    }\n",
       "\n",
       "    .dataframe thead th {\n",
       "        text-align: right;\n",
       "    }\n",
       "</style>\n",
       "<table border=\"1\" class=\"dataframe\">\n",
       "  <thead>\n",
       "    <tr style=\"text-align: right;\">\n",
       "      <th></th>\n",
       "      <th>title</th>\n",
       "      <th>platform</th>\n",
       "      <th>metascore</th>\n",
       "      <th>metasentiment</th>\n",
       "      <th>average_userscore</th>\n",
       "      <th>average_usersentiment</th>\n",
       "      <th>developer</th>\n",
       "      <th>genre</th>\n",
       "      <th>number_of_players</th>\n",
       "      <th>esrb_rating</th>\n",
       "      <th>release_date</th>\n",
       "      <th>username</th>\n",
       "      <th>userscore</th>\n",
       "      <th>usersentiment</th>\n",
       "      <th>review</th>\n",
       "      <th>review_date</th>\n",
       "    </tr>\n",
       "  </thead>\n",
       "  <tbody>\n",
       "    <tr>\n",
       "      <th>0</th>\n",
       "      <td>Red Dead Redemption 2</td>\n",
       "      <td>Xbox One</td>\n",
       "      <td>97.0</td>\n",
       "      <td>positive</td>\n",
       "      <td>7.9</td>\n",
       "      <td>positive</td>\n",
       "      <td>Rockstar Games</td>\n",
       "      <td>Action adventure</td>\n",
       "      <td>Up to 32</td>\n",
       "      <td>M</td>\n",
       "      <td>Oct 26, 2018</td>\n",
       "      <td>gnadenlos</td>\n",
       "      <td>7</td>\n",
       "      <td>mixed</td>\n",
       "      <td>The main problem is, that it's not a real open...</td>\n",
       "      <td>Nov  1, 2018</td>\n",
       "    </tr>\n",
       "    <tr>\n",
       "      <th>1</th>\n",
       "      <td>Red Dead Redemption 2</td>\n",
       "      <td>Xbox One</td>\n",
       "      <td>97.0</td>\n",
       "      <td>positive</td>\n",
       "      <td>7.9</td>\n",
       "      <td>positive</td>\n",
       "      <td>Rockstar Games</td>\n",
       "      <td>Action adventure</td>\n",
       "      <td>Up to 32</td>\n",
       "      <td>M</td>\n",
       "      <td>Oct 26, 2018</td>\n",
       "      <td>Feriatus</td>\n",
       "      <td>7</td>\n",
       "      <td>mixed</td>\n",
       "      <td>It's not a bad game but the gameplay is an out...</td>\n",
       "      <td>Oct 29, 2018</td>\n",
       "    </tr>\n",
       "    <tr>\n",
       "      <th>2</th>\n",
       "      <td>Red Dead Redemption 2</td>\n",
       "      <td>Xbox One</td>\n",
       "      <td>97.0</td>\n",
       "      <td>positive</td>\n",
       "      <td>7.9</td>\n",
       "      <td>positive</td>\n",
       "      <td>Rockstar Games</td>\n",
       "      <td>Action adventure</td>\n",
       "      <td>Up to 32</td>\n",
       "      <td>M</td>\n",
       "      <td>Oct 26, 2018</td>\n",
       "      <td>ponux</td>\n",
       "      <td>7</td>\n",
       "      <td>mixed</td>\n",
       "      <td>Visually superb (except cutscenes), good (not ...</td>\n",
       "      <td>Nov  5, 2018</td>\n",
       "    </tr>\n",
       "    <tr>\n",
       "      <th>3</th>\n",
       "      <td>Red Dead Redemption 2</td>\n",
       "      <td>Xbox One</td>\n",
       "      <td>97.0</td>\n",
       "      <td>positive</td>\n",
       "      <td>7.9</td>\n",
       "      <td>positive</td>\n",
       "      <td>Rockstar Games</td>\n",
       "      <td>Action adventure</td>\n",
       "      <td>Up to 32</td>\n",
       "      <td>M</td>\n",
       "      <td>Oct 26, 2018</td>\n",
       "      <td>Picklock</td>\n",
       "      <td>5</td>\n",
       "      <td>mixed</td>\n",
       "      <td>Great looking game backed up by clumsy, overly...</td>\n",
       "      <td>Nov  4, 2018</td>\n",
       "    </tr>\n",
       "    <tr>\n",
       "      <th>4</th>\n",
       "      <td>Red Dead Redemption 2</td>\n",
       "      <td>Xbox One</td>\n",
       "      <td>97.0</td>\n",
       "      <td>positive</td>\n",
       "      <td>7.9</td>\n",
       "      <td>positive</td>\n",
       "      <td>Rockstar Games</td>\n",
       "      <td>Action adventure</td>\n",
       "      <td>Up to 32</td>\n",
       "      <td>M</td>\n",
       "      <td>Oct 26, 2018</td>\n",
       "      <td>Saints</td>\n",
       "      <td>6</td>\n",
       "      <td>mixed</td>\n",
       "      <td>Red Dead Redemption 2 is an amazing game that ...</td>\n",
       "      <td>Oct 30, 2018</td>\n",
       "    </tr>\n",
       "  </tbody>\n",
       "</table>\n",
       "</div>"
      ],
      "text/plain": [
       "                   title  platform  metascore metasentiment  \\\n",
       "0  Red Dead Redemption 2  Xbox One       97.0      positive   \n",
       "1  Red Dead Redemption 2  Xbox One       97.0      positive   \n",
       "2  Red Dead Redemption 2  Xbox One       97.0      positive   \n",
       "3  Red Dead Redemption 2  Xbox One       97.0      positive   \n",
       "4  Red Dead Redemption 2  Xbox One       97.0      positive   \n",
       "\n",
       "   average_userscore average_usersentiment       developer             genre  \\\n",
       "0                7.9              positive  Rockstar Games  Action adventure   \n",
       "1                7.9              positive  Rockstar Games  Action adventure   \n",
       "2                7.9              positive  Rockstar Games  Action adventure   \n",
       "3                7.9              positive  Rockstar Games  Action adventure   \n",
       "4                7.9              positive  Rockstar Games  Action adventure   \n",
       "\n",
       "  number_of_players esrb_rating  release_date   username  userscore  \\\n",
       "0          Up to 32           M  Oct 26, 2018  gnadenlos          7   \n",
       "1          Up to 32           M  Oct 26, 2018   Feriatus          7   \n",
       "2          Up to 32           M  Oct 26, 2018      ponux          7   \n",
       "3          Up to 32           M  Oct 26, 2018   Picklock          5   \n",
       "4          Up to 32           M  Oct 26, 2018     Saints          6   \n",
       "\n",
       "  usersentiment                                             review  \\\n",
       "0         mixed  The main problem is, that it's not a real open...   \n",
       "1         mixed  It's not a bad game but the gameplay is an out...   \n",
       "2         mixed  Visually superb (except cutscenes), good (not ...   \n",
       "3         mixed  Great looking game backed up by clumsy, overly...   \n",
       "4         mixed  Red Dead Redemption 2 is an amazing game that ...   \n",
       "\n",
       "    review_date  \n",
       "0  Nov  1, 2018  \n",
       "1  Oct 29, 2018  \n",
       "2  Nov  5, 2018  \n",
       "3  Nov  4, 2018  \n",
       "4  Oct 30, 2018  "
      ]
     },
     "execution_count": 2,
     "metadata": {},
     "output_type": "execute_result"
    }
   ],
   "source": [
    "# Load data\n",
    "gameReviews = pd.read_csv('MetacriticGameReviews.csv', index_col=0)\n",
    "gameReviews.head()"
   ]
  },
  {
   "cell_type": "code",
   "execution_count": 3,
   "metadata": {},
   "outputs": [
    {
     "data": {
      "text/plain": [
       "\"The main problem is, that it's not a real open world game. If you focus on the main story, like many reviewers and some users do, you will experience a linear and scripted game with almost no freedom. Every time you try something different the missions will fail.Controls aren't very good, so it's also hard to recommend the game for that linear story experience.\\r\\n\\r\\nThe separate and realThe main problem is, that it's not a real open world game. If you focus on the main story, like many reviewers and some users do, you will experience a linear and scripted game with almost no freedom. Every time you try something different the missions will fail.Controls aren't very good, so it's also hard to recommend the game for that linear story experience.The separate and real open world part is done quite well, but it doesn't have enough interesting and coherent/interlocking elements to keep you motivated very long. If you remove the linear story and high production value, it's the usual open world stuff, we've known for years, mixed with light survival elements.So what you will get is an average to good open world sandbox for maybe 15-20 hours of random fun and a separate, very scripted and cinematic game with high production value. Both parts have average gameplay and problematic controls. The only highlights and reasons to play the game are its great graphics, atmosphere and story.…Expand\""
      ]
     },
     "execution_count": 3,
     "metadata": {},
     "output_type": "execute_result"
    }
   ],
   "source": [
    "gameReviews.review[0]"
   ]
  },
  {
   "cell_type": "markdown",
   "metadata": {},
   "source": [
    "### Feature definition\n",
    "***\n",
    "-  __title:__ Title of the game <br>\n",
    "\n",
    "2. __platform:__ The console reviewer played the game on <br>\n",
    "\n",
    "3. __metascore:__ The average score given to the game by various game critics (float range of 1-100) <br>\n",
    "\n",
    "4. __metasentiment:__ The overall critic sentiment classification based on critic ratings/metascore (positive, mixed, negative) <br>\n",
    "\n",
    "5. __average_userscore:__ The average score given to the game by users (float range of 1-10) <br>\n",
    "\n",
    "6. __average_usersentiment:__ The overall user sentiment classification based on average user score (positive, mixed, negative) <br>\n",
    "\n",
    "7. __developer:__ Developer of game <br>\n",
    "\n",
    "8. __genre:__ Genre of game <br>\n",
    "\n",
    "9. __number_of_players:__ Number of players that can play the game <br>\n",
    "\n",
    "10. __esrb_rating:__ Entertainment Software Rating Board (ESRB) rating <br>\n",
    "\n",
    "11. __release_date:__ Release date of game <br>\n",
    "\n",
    "12. __username:__ The Metacritic username of the game reviewer <br>\n",
    "\n",
    "13. __userscore:__ Individual user rating (integer range of 1-10) <br>\n",
    "\n",
    "14. __usersentiment:__ Individual user sentiment classification based on their user score (positive, mixed, negative) <br>\n",
    "\n",
    "15. __review:__ Text review left by user\n",
    "\n",
    "16. __review_date:__ Date review was left by user"
   ]
  },
  {
   "cell_type": "markdown",
   "metadata": {},
   "source": [
    "### Initial data exploration"
   ]
  },
  {
   "cell_type": "code",
   "execution_count": 4,
   "metadata": {},
   "outputs": [
    {
     "name": "stdout",
     "output_type": "stream",
     "text": [
      "<class 'pandas.core.frame.DataFrame'>\n",
      "Int64Index: 20910 entries, 0 to 20909\n",
      "Data columns (total 16 columns):\n",
      " #   Column                 Non-Null Count  Dtype  \n",
      "---  ------                 --------------  -----  \n",
      " 0   title                  20910 non-null  object \n",
      " 1   platform               20910 non-null  object \n",
      " 2   metascore              20895 non-null  float64\n",
      " 3   metasentiment          20895 non-null  object \n",
      " 4   average_userscore      20895 non-null  float64\n",
      " 5   average_usersentiment  20895 non-null  object \n",
      " 6   developer              20895 non-null  object \n",
      " 7   genre                  20910 non-null  object \n",
      " 8   number_of_players      17370 non-null  object \n",
      " 9   esrb_rating            20445 non-null  object \n",
      " 10  release_date           20910 non-null  object \n",
      " 11  username               20910 non-null  object \n",
      " 12  userscore              20910 non-null  int64  \n",
      " 13  usersentiment          20910 non-null  object \n",
      " 14  review                 20908 non-null  object \n",
      " 15  review_date            20910 non-null  object \n",
      "dtypes: float64(2), int64(1), object(13)\n",
      "memory usage: 3.3+ MB\n"
     ]
    }
   ],
   "source": [
    "# Save shape of dataframe to compare after data is cleaned\n",
    "init_shape = gameReviews.shape\n",
    "\n",
    "# Check dtypes of each feature\n",
    "gameReviews.info()"
   ]
  },
  {
   "cell_type": "markdown",
   "metadata": {},
   "source": [
    "Many of the features are of the object type including the release and review date which may be of better us as time series type. There appears to be a significant amount of null values for the \"number_of_players\" column and a small amount of nulls for a few others."
   ]
  },
  {
   "cell_type": "code",
   "execution_count": 5,
   "metadata": {},
   "outputs": [
    {
     "data": {
      "text/html": [
       "<div>\n",
       "<style scoped>\n",
       "    .dataframe tbody tr th:only-of-type {\n",
       "        vertical-align: middle;\n",
       "    }\n",
       "\n",
       "    .dataframe tbody tr th {\n",
       "        vertical-align: top;\n",
       "    }\n",
       "\n",
       "    .dataframe thead th {\n",
       "        text-align: right;\n",
       "    }\n",
       "</style>\n",
       "<table border=\"1\" class=\"dataframe\">\n",
       "  <thead>\n",
       "    <tr style=\"text-align: right;\">\n",
       "      <th></th>\n",
       "      <th>count</th>\n",
       "      <th>mean</th>\n",
       "      <th>std</th>\n",
       "      <th>min</th>\n",
       "      <th>25%</th>\n",
       "      <th>50%</th>\n",
       "      <th>75%</th>\n",
       "      <th>max</th>\n",
       "    </tr>\n",
       "  </thead>\n",
       "  <tbody>\n",
       "    <tr>\n",
       "      <th>metascore</th>\n",
       "      <td>20895.0</td>\n",
       "      <td>75.819813</td>\n",
       "      <td>10.997743</td>\n",
       "      <td>17.0</td>\n",
       "      <td>71.0</td>\n",
       "      <td>78.0</td>\n",
       "      <td>83.0</td>\n",
       "      <td>97.0</td>\n",
       "    </tr>\n",
       "    <tr>\n",
       "      <th>average_userscore</th>\n",
       "      <td>20895.0</td>\n",
       "      <td>6.771716</td>\n",
       "      <td>1.608292</td>\n",
       "      <td>0.2</td>\n",
       "      <td>6.1</td>\n",
       "      <td>7.2</td>\n",
       "      <td>7.9</td>\n",
       "      <td>9.6</td>\n",
       "    </tr>\n",
       "    <tr>\n",
       "      <th>userscore</th>\n",
       "      <td>20910.0</td>\n",
       "      <td>6.776471</td>\n",
       "      <td>3.418414</td>\n",
       "      <td>0.0</td>\n",
       "      <td>5.0</td>\n",
       "      <td>8.0</td>\n",
       "      <td>10.0</td>\n",
       "      <td>10.0</td>\n",
       "    </tr>\n",
       "  </tbody>\n",
       "</table>\n",
       "</div>"
      ],
      "text/plain": [
       "                     count       mean        std   min   25%   50%   75%   max\n",
       "metascore          20895.0  75.819813  10.997743  17.0  71.0  78.0  83.0  97.0\n",
       "average_userscore  20895.0   6.771716   1.608292   0.2   6.1   7.2   7.9   9.6\n",
       "userscore          20910.0   6.776471   3.418414   0.0   5.0   8.0  10.0  10.0"
      ]
     },
     "execution_count": 5,
     "metadata": {},
     "output_type": "execute_result"
    }
   ],
   "source": [
    "# Checkout basic statistical qualities for numerical features\n",
    "gameReviews.describe().T"
   ]
  },
  {
   "cell_type": "markdown",
   "metadata": {},
   "source": [
    "The average critic score tends to be around 76 which appear to be on a 10:1 scale compared to user scores. The average user scores and individual user scores both match around a score of 6.7."
   ]
  },
  {
   "cell_type": "markdown",
   "metadata": {},
   "source": [
    "### Dealing with nulls and duplicate rows"
   ]
  },
  {
   "cell_type": "code",
   "execution_count": 6,
   "metadata": {},
   "outputs": [
    {
     "name": "stdout",
     "output_type": "stream",
     "text": [
      "Missing Data percentage for metascore is 0.07%\n",
      "Missing Data percentage for metasentiment is 0.07%\n",
      "Missing Data percentage for average_userscore is 0.07%\n",
      "Missing Data percentage for average_usersentiment is 0.07%\n",
      "Missing Data percentage for developer is 0.07%\n",
      "Missing Data percentage for number_of_players is 16.93%\n",
      "Missing Data percentage for esrb_rating is 2.22%\n",
      "Missing Data percentage for review is 0.01%\n"
     ]
    }
   ],
   "source": [
    "# There appears to be some missing values, check for percentage of missing values in each column\n",
    "def missingData(df): # Function retrieved from github.com/ithisted/PetAdoptionPrediction/blob/master/PetAdoptionPrediction.ipynb\n",
    "    missing = False\n",
    "    \n",
    "    for item in (df.isnull().sum()).iteritems():\n",
    "        if item[1] > 0:\n",
    "            print('Missing Data percentage for '+item[0]+' is {:2.2%}'.format((item[1]/df.shape[0])) )\n",
    "            missing = True\n",
    "    if not missing:\n",
    "        print('Found no missing values.')\n",
    "\n",
    "missingData(gameReviews)"
   ]
  },
  {
   "cell_type": "code",
   "execution_count": 7,
   "metadata": {},
   "outputs": [
    {
     "name": "stdout",
     "output_type": "stream",
     "text": [
      "Missing Data percentage for number_of_players is 16.39%\n"
     ]
    }
   ],
   "source": [
    "# Drop rows of missing values of columns with 2% or less of nulls\n",
    "def dropMissing(df, drop_list):\n",
    "    df = df.dropna(axis=0, subset=drop_list)\n",
    "    return df\n",
    "\n",
    "toDrop = ['metascore', 'metasentiment', 'average_userscore', 'average_usersentiment', 'developer', 'esrb_rating','review']\n",
    "\n",
    "gameReviews = dropMissing(gameReviews, toDrop)\n",
    "missingData(gameReviews)"
   ]
  },
  {
   "cell_type": "code",
   "execution_count": 8,
   "metadata": {},
   "outputs": [
    {
     "data": {
      "text/plain": [
       "No Online Multiplayer    7905\n",
       "Up to 4                  1875\n",
       "2                        1544\n",
       "Up to 8                  1140\n",
       "Up to 10                  660\n",
       "Up to 6                   645\n",
       "Up to 12                  555\n",
       "Up to 16                  434\n",
       "Up to 22                  375\n",
       "Online Multiplayer        330\n",
       "Up to 5                   225\n",
       "Up to 18                  195\n",
       "Up to 24                  180\n",
       "Up to more than 64        165\n",
       "Up to 64                  165\n",
       "Massively Multiplayer     150\n",
       "Up to 3                   150\n",
       "Up to 20                  105\n",
       "Up to 32                   75\n",
       "Up to 40                   75\n",
       "Up to 60                   45\n",
       "Up to 30                   45\n",
       "1 Player                   30\n",
       "Name: number_of_players, dtype: int64"
      ]
     },
     "execution_count": 8,
     "metadata": {},
     "output_type": "execute_result"
    }
   ],
   "source": [
    "# Explore different values of 'number_of_players column'\n",
    "gameReviews.number_of_players.value_counts()"
   ]
  },
  {
   "cell_type": "code",
   "execution_count": 8,
   "metadata": {},
   "outputs": [],
   "source": [
    "# Explore titles of 'No Online Multiplayer' games\n",
    "#pd.unique(gameReviews[gameReviews.number_of_players == 'No Online Multiplayer']['title'])"
   ]
  },
  {
   "cell_type": "code",
   "execution_count": 9,
   "metadata": {},
   "outputs": [
    {
     "data": {
      "text/plain": [
       "multiplayer     12478\n",
       "singleplayer     7935\n",
       "Name: number_of_players, dtype: int64"
      ]
     },
     "execution_count": 9,
     "metadata": {},
     "output_type": "execute_result"
    }
   ],
   "source": [
    "# Retrieve all unique values in 'number_of_players' column and seperate which will be considered as single and multi player\n",
    "num_players_values = pd.unique(gameReviews.number_of_players)\n",
    "single = [val for val in num_players_values if val in ['No Online Multiplayer', '1 Player']]\n",
    "multi = [val for val in num_players_values if val not in ['No Online Multiplayer', '1 Player']]\n",
    "\n",
    "# Replace corresponding values to get a binary column\n",
    "gameReviews['number_of_players'] = gameReviews.number_of_players.replace(single, 'singleplayer')\n",
    "gameReviews['number_of_players'] = gameReviews.number_of_players.replace(multi, 'multiplayer')\n",
    "\n",
    "# Double check only two unique values exists; singleplayer and multiplayer\n",
    "gameReviews.number_of_players.value_counts()"
   ]
  },
  {
   "cell_type": "markdown",
   "metadata": {},
   "source": [
    "To reduce the amount of different, uneccessary amount of values for the 'number_of_players' columns of the dataframe, the game titles for 'No Online Multiplayer' games were explored. Mostly all, if not all were single player games. For simplicity, the 'number_of_players' columns is converted to a binary columnn where a game is either a single player game (values of 'No Online Multiplayer' and '1 Player) or multiplayer game (all other values)."
   ]
  },
  {
   "cell_type": "code",
   "execution_count": 10,
   "metadata": {},
   "outputs": [
    {
     "name": "stdout",
     "output_type": "stream",
     "text": [
      "30 duplicate rows were dropped.\n",
      "\n"
     ]
    }
   ],
   "source": [
    "# Check for duplicate rows and drop if any\n",
    "def dropDuplicates(df):\n",
    "    num_dups = len(df) - len(df.drop_duplicates())\n",
    "    print(num_dups, \"duplicate rows were dropped.\")\n",
    "    return df.drop_duplicates()\n",
    "\n",
    "gameReviews = dropDuplicates(gameReviews)\n",
    "print()"
   ]
  },
  {
   "cell_type": "code",
   "execution_count": 11,
   "metadata": {},
   "outputs": [
    {
     "name": "stdout",
     "output_type": "stream",
     "text": [
      "Initial shape: (20910, 16)\n",
      "Current shape: (20383, 16)\n"
     ]
    }
   ],
   "source": [
    "# Compare shape of clean dataframe to the initiail shape\n",
    "clean_shape = gameReviews.shape\n",
    "\n",
    "print('Initial shape:', init_shape)\n",
    "print('Current shape:', clean_shape)"
   ]
  },
  {
   "cell_type": "markdown",
   "metadata": {},
   "source": [
    "### Text pre-processing"
   ]
  },
  {
   "cell_type": "code",
   "execution_count": null,
   "metadata": {},
   "outputs": [],
   "source": [
    "# TO DO:\n",
    "# Include contractions\n",
    "# Order functions and add doc string with \" \"\n",
    "# Order: lower, contractions, digits, punctuation, whitespace, lemmatize, stopwords\n",
    "# Potentially see all languages included in corpus\n",
    "# Compare a couple of the reviews to the reviews on metacritic, may potentially need to fix scraper script"
   ]
  },
  {
   "cell_type": "code",
   "execution_count": 30,
   "metadata": {},
   "outputs": [
    {
     "name": "stderr",
     "output_type": "stream",
     "text": [
      "[nltk_data] Downloading package wordnet to\n",
      "[nltk_data]     C:\\Users\\filia\\AppData\\Roaming\\nltk_data...\n",
      "[nltk_data]   Package wordnet is already up-to-date!\n",
      "[nltk_data] Downloading package punkt to\n",
      "[nltk_data]     C:\\Users\\filia\\AppData\\Roaming\\nltk_data...\n",
      "[nltk_data]   Package punkt is already up-to-date!\n",
      "[nltk_data] Downloading package stopwords to\n",
      "[nltk_data]     C:\\Users\\filia\\AppData\\Roaming\\nltk_data...\n",
      "[nltk_data]   Unzipping corpora\\stopwords.zip.\n"
     ]
    },
    {
     "data": {
      "text/plain": [
       "True"
      ]
     },
     "execution_count": 30,
     "metadata": {},
     "output_type": "execute_result"
    }
   ],
   "source": [
    "from langdetect import detect_langs\n",
    "from contractions import CONTRACTION_MAP\n",
    "from nltk.corpus import stopwords\n",
    "from nltk.tokenize import word_tokenize\n",
    "from nltk.stem import WordNetLemmatizer\n",
    "import nltk\n",
    "import string\n",
    "import re\n",
    "\n",
    "nltk.download('wordnet')\n",
    "nltk.download('punkt')\n",
    "nltk.download('stopwords')"
   ]
  },
  {
   "cell_type": "code",
   "execution_count": 14,
   "metadata": {},
   "outputs": [],
   "source": [
    "def make_lower(docs):\n",
    "    lowered = [doc.lower() for doc in docs]\n",
    "    return lowered"
   ]
  },
  {
   "cell_type": "code",
   "execution_count": 15,
   "metadata": {},
   "outputs": [],
   "source": [
    "def remove_digits(docs):\n",
    "    pattern = r'\\d*'\n",
    "    digitless = [re.sub(pattern, '', doc) for doc in docs]\n",
    "    return digitless"
   ]
  },
  {
   "cell_type": "code",
   "execution_count": 47,
   "metadata": {},
   "outputs": [],
   "source": [
    "# Function retrieved from https://towardsdatascience.com/a-practitioners-guide-to-natural-language-processing-part-i-processing-understanding-text-9f4abfd13e72\n",
    "def expand_contractions(docs, contraction_mapping=CONTRACTION_MAP):\n",
    "    \n",
    "    contractions_pattern = re.compile('({})'.format('|'.join(contraction_mapping.keys())), \n",
    "                                      flags=re.IGNORECASE|re.DOTALL)\n",
    "    def expand_match(contraction):\n",
    "        match = contraction.group(0)\n",
    "        first_char = match[0]\n",
    "        expanded_contraction = contraction_mapping.get(match)\\\n",
    "                                if contraction_mapping.get(match)\\\n",
    "                                else contraction_mapping.get(match.lower())                       \n",
    "        expanded_contraction = first_char+expanded_contraction[1:]\n",
    "        return expanded_contraction\n",
    "    \n",
    "    expanded_texts = []\n",
    "    for doc in docs:\n",
    "        expanded_text = contractions_pattern.sub(expand_match, doc)\n",
    "        expanded_text = re.sub(\"'\", \"\", expanded_text)\n",
    "        expanded_texts.append(expanded_text)\n",
    "        \n",
    "    return expanded_texts"
   ]
  },
  {
   "cell_type": "code",
   "execution_count": 17,
   "metadata": {},
   "outputs": [],
   "source": [
    "def remove_punctuation(docs):\n",
    "    punc_filtered = []\n",
    "    \n",
    "    # Seperate punctuation marks that are in between words from those that occur at the end of words\n",
    "    punctuation = ''.join([p for p in string.punctuation if p not in ['/','-']])\n",
    "    between_words = r'[/\\-]'\n",
    "    \n",
    "    # Translate punctuation marks end of word punctuation marks with ''\n",
    "    table = str.maketrans(\"\",\"\",punctuation)\n",
    "    for doc in docs:\n",
    "        no_puncs = re.sub(between_words, ' ', doc)\n",
    "        no_puncs = no_puncs.translate(table)\n",
    "        punc_filtered.append(no_puncs)\n",
    "    \n",
    "    #no_puncs = [doc.translate(table) for doc in docs]\n",
    "    return punc_filtered"
   ]
  },
  {
   "cell_type": "code",
   "execution_count": 18,
   "metadata": {},
   "outputs": [],
   "source": [
    "def remove_whitespace(docs):\n",
    "    no_ws = [' '.join(doc.split()) for doc in docs]\n",
    "    return no_ws"
   ]
  },
  {
   "cell_type": "code",
   "execution_count": 19,
   "metadata": {},
   "outputs": [],
   "source": [
    "def remove_stopwords(docs):\n",
    "    ''' This function removes english stop words with 'game' and 'video' in consideration '''\n",
    "    stopword_filtered = []\n",
    "\n",
    "    # Potentially download sw from other languages\n",
    "    stop_words = stopwords.words('english')\n",
    "    # Add domain specific words to the list of stop words\n",
    "    stop_words.extend(['video','game'])\n",
    "    # Remove negation words to extract correct sentiment\n",
    "    stop_words.remove('no')\n",
    "    stop_words.remove('not')\n",
    "    #negation_words = ['no','nor','not']\n",
    "    #stop_words = [w for w in stop_words if w not in negation_words]\n",
    "\n",
    "    for doc in docs:\n",
    "        tokens = word_tokenize(doc)\n",
    "        output = [t for t in tokens if t not in stop_words]\n",
    "        stopword_filtered.append(' '.join(output))\n",
    "  \n",
    "    return stopword_filtered"
   ]
  },
  {
   "cell_type": "code",
   "execution_count": 20,
   "metadata": {},
   "outputs": [],
   "source": [
    "def lemmatize(docs):\n",
    "    # Initialize empty string to store lemmatized text\n",
    "    lemmatized = []\n",
    "    # Initialize lemmatizer\n",
    "    lemmatizer = WordNetLemmatizer()\n",
    "    \n",
    "    # Loop over all text files, tokenize each words, get its lemma and join lemmas to create lemmatized strings\n",
    "    for doc in docs:\n",
    "        tokens = word_tokenize(doc)\n",
    "        output = [lemmatizer.lemmatize(t) for t in tokens]\n",
    "        lemmatized.append(' '.join(output))\n",
    "    \n",
    "    return lemmatized"
   ]
  },
  {
   "cell_type": "code",
   "execution_count": 25,
   "metadata": {},
   "outputs": [],
   "source": [
    "def clean_text(df, col, lower=True, contraction=True, digit=True, punctuation=True, whitespace=True, stopwords=True, lemma=True):\n",
    "    clean_corpus = list(df[col])\n",
    "    \n",
    "    if lower:\n",
    "        clean_corpus = make_lower(clean_corpus)\n",
    "        \n",
    "    if contraction:\n",
    "        clean_corpus = expand_contractions(clean_corpus)\n",
    "        \n",
    "    if digit:\n",
    "        clean_corpus = remove_digits(clean_corpus)\n",
    "        \n",
    "    if punctuation:\n",
    "        clean_corpus = remove_punctuation(clean_corpus)\n",
    "        \n",
    "    if whitespace:\n",
    "        clean_corpus = remove_whitespace(clean_corpus)\n",
    "        \n",
    "    if stopwords:\n",
    "        clean_corpus = remove_stopwords(clean_corpus)\n",
    "        \n",
    "    if lemma:\n",
    "        clean_corpus = lemmatize(clean_corpus)\n",
    "        \n",
    "    df['clean_text'] = clean_corpus"
   ]
  },
  {
   "cell_type": "code",
   "execution_count": 36,
   "metadata": {},
   "outputs": [],
   "source": [
    "def clean_text2(docs, lower=True, contraction=True, digit=True, punctuation=True, whitespace=True, stopwords=True, lemma=True):\n",
    "    clean_corpus = list(docs)\n",
    "    \n",
    "    if lower:\n",
    "        clean_corpus = make_lower(clean_corpus)\n",
    "        \n",
    "    if contraction:\n",
    "        clean_corpus = expand_contractions(clean_corpus)\n",
    "        \n",
    "    if digit:\n",
    "        clean_corpus = remove_digits(clean_corpus)\n",
    "        \n",
    "    if punctuation:\n",
    "        clean_corpus = remove_punctuation(clean_corpus)\n",
    "        \n",
    "    if whitespace:\n",
    "        clean_corpus = remove_whitespace(clean_corpus)\n",
    "        \n",
    "    if stopwords:\n",
    "        clean_corpus = remove_stopwords(clean_corpus)\n",
    "        \n",
    "    if lemma:\n",
    "        clean_corpus = lemmatize(clean_corpus)\n",
    "        \n",
    "    #df['clean_text'] = clean_corpus\n",
    "    return clean_corpus"
   ]
  },
  {
   "cell_type": "code",
   "execution_count": 38,
   "metadata": {},
   "outputs": [],
   "source": [
    "first2 = [\"The main problem is, that it's not a real open world game. If you focus on the main story, like many reviewers and some users do, you will experience a linear and scripted game with almost no freedom. Every time you try something different the missions will fail.Controls aren't very good, so it's also hard to recommend the game for that linear story experience.The separate and real open world part is done quite well, but it doesn't have enough interesting and coherent/interlocking elements to keep you motivated very long. If you remove the linear story and high production value, it's the usual open world stuff, we've known for years, mixed with light survival elements.So what you will get is an average to good open world sandbox for maybe 15-20 hours of random fun and a separate, very scripted and cinematic game with high production value. Both parts have average gameplay and problematic controls. The only highlights and reasons to play the game are its great graphics, atmosphere and story\", \"Red Dead Redemption 2 is an amazing game that is plagued with an outdated control scheme and a bounty system that needs some understanding.\"]\n"
   ]
  },
  {
   "cell_type": "code",
   "execution_count": 50,
   "metadata": {},
   "outputs": [
    {
     "name": "stdout",
     "output_type": "stream",
     "text": [
      "The main problem is, that it's not a real open world game. If you focus on the main story, like many reviewers and some users do, you will experience a linear and scripted game with almost no freedom. Every time you try something different the missions will fail.Controls aren't very good, so it's also hard to recommend the game for that linear story experience.The separate and real open world part is done quite well, but it doesn't have enough interesting and coherent/interlocking elements to keep you motivated very long. If you remove the linear story and high production value, it's the usual open world stuff, we've known for years, mixed with light survival elements.So what you will get is an average to good open world sandbox for maybe 15-20 hours of random fun and a separate, very scripted and cinematic game with high production value. Both parts have average gameplay and problematic controls. The only highlights and reasons to play the game are its great graphics, atmosphere and story\n",
      " \n",
      "main problem not real open world focus main story like many reviewer user experience linear scripted almost no freedom every time try something different mission failcontrols not good also hard recommend linear story experiencethe separate real open world part done quite well not enough interesting coherent interlocking element keep motivated long remove linear story high production value usual open world stuff known year mixed light survival elementsso get average good open world sandbox maybe hour random fun separate scripted cinematic high production value part average gameplay problematic control highlight reason play great graphic atmosphere story\n"
     ]
    }
   ],
   "source": [
    "clean_first2 = clean_text2(first2) \n",
    "print(first2[0])\n",
    "print(' ')\n",
    "print(clean_first2[0])"
   ]
  },
  {
   "cell_type": "markdown",
   "metadata": {},
   "source": [
    "***"
   ]
  },
  {
   "cell_type": "code",
   "execution_count": 50,
   "metadata": {},
   "outputs": [
    {
     "name": "stdout",
     "output_type": "stream",
     "text": [
      "[!\"#$%&'()*+,-./:;<=>?@[\\]^_`{|}~]\n",
      "The main problem is, that it's not a real open world game. If you focus on the main story, like many reviewers and some users do, you will experience a linear and scripted game with almost no freedom. Every time you try something different the missions will fail.Controls aren't very good, so it's also hard to recommend the game for that linear story experience.\n",
      " \n",
      "The main problem is  that it s not a real open world game  If you focus on the main story  like many reviewers and some users do  you will experience a linear and scripted game with almost no freedom  Every time you try something different the missions will fail Controls aren t very good  so it s also hard to recommend the game for that linear story experience\n"
     ]
    }
   ],
   "source": [
    "pattern = r\"[\"+string.punctuation+\"]\"\n",
    "print(pattern)\n",
    "input_str = \"The main problem is, that it's not a real open world game. If you focus on the main story, like many reviewers and some users do, you will experience a linear and scripted game with almost no freedom. Every time you try something different the missions will fail.Controls aren't very good, so it's also hard to recommend the game for that linear story experience.\" # Sample string\n",
    "new_str = re.sub(pattern, ' ', input_str)\n",
    "new_str = new_str.strip(' ')\n",
    "#new_str = re.sub(r'\\ *', ' ', new_str)\n",
    "print(input_str)\n",
    "print(' ')\n",
    "print(new_str)"
   ]
  },
  {
   "cell_type": "code",
   "execution_count": 53,
   "metadata": {},
   "outputs": [
    {
     "name": "stdout",
     "output_type": "stream",
     "text": [
      "['The', 'main', 'problem', 'is', 'that', 'its', 'not', 'a', 'real', 'open', 'world', 'game', 'If', 'you', 'focus', 'on', 'the', 'main', 'story', 'like', 'many', 'reviewers', 'and', 'some', 'users', 'do', 'you', 'will', 'experience', 'a', 'linear', 'and', 'scripted', 'game', 'with', 'almost', 'no', 'freedom', 'Every', 'time', 'you', 'try', 'something', 'different', 'the', 'missions', 'will', 'failControls', 'arent', 'very', 'good', 'so', 'its', 'also', 'hard', 'to', 'recommend', 'the', 'game', 'for', 'that', 'linear', 'story', 'experience']\n"
     ]
    }
   ],
   "source": [
    "#this works\n",
    "words = input_str.split()\n",
    "table = str.maketrans('', '', string.punctuation)\n",
    "stripped = [w.translate(table) for w in words]\n",
    "print(stripped)"
   ]
  },
  {
   "cell_type": "code",
   "execution_count": null,
   "metadata": {},
   "outputs": [],
   "source": [
    "pattern = r\"[\"+string.punctuation+\"]\"\n",
    "\n",
    "input_str = \"This &is [an] example? {of} string. with.? punctuation!!!!\" # Sample string\n",
    "new_str = re.sub(pattern, '', input_str)\n",
    "print(input_str)\n",
    "print(new_str)"
   ]
  },
  {
   "cell_type": "code",
   "execution_count": 32,
   "metadata": {},
   "outputs": [
    {
     "name": "stderr",
     "output_type": "stream",
     "text": [
      "[nltk_data] Downloading package punkt to\n",
      "[nltk_data]     C:\\Users\\filia\\AppData\\Roaming\\nltk_data...\n",
      "[nltk_data]   Package punkt is already up-to-date!\n",
      "[nltk_data] Downloading package wordnet to\n",
      "[nltk_data]     C:\\Users\\filia\\AppData\\Roaming\\nltk_data...\n",
      "[nltk_data]   Unzipping corpora\\wordnet.zip.\n"
     ]
    },
    {
     "data": {
      "text/plain": [
       "True"
      ]
     },
     "execution_count": 32,
     "metadata": {},
     "output_type": "execute_result"
    }
   ],
   "source": [
    "nltk.download('punkt')\n",
    "nltk.download('wordnet')"
   ]
  },
  {
   "cell_type": "code",
   "execution_count": 33,
   "metadata": {},
   "outputs": [],
   "source": [
    "def make_lower(docs):\n",
    "    low = [doc.lower() for doc in docs]\n",
    "    return low\n",
    "\n",
    "def remove_punctuation(docs):\n",
    "    pattern = r\"[\"+string.punctuation+\"]\"\n",
    "    no_puncs = [re.sub(pattern, '', doc) for doc in docs]\n",
    "    return no_puncs\n",
    "\n",
    "def remove_whitespace(docs):\n",
    "    no_whitespace = [doc.strip() for doc in docs]\n",
    "    return no_whitespace\n",
    "\n",
    "def remove_stopwords(docs):\n",
    "    stopword_filtered = []\n",
    "    for doc in docs:\n",
    "        tokens = word_tokenize(doc)\n",
    "        output = [t for t in tokens if t not in ENGLISH_STOP_WORDS]\n",
    "        stopword_filtered.append(' '.join(output))\n",
    "    return stopword_filtered\n",
    "\n",
    "def lemmatize(docs):\n",
    "    lemmatized = []\n",
    "    lemmatizer = WordNetLemmatizer()\n",
    "    for doc in docs:\n",
    "        tokens = word_tokenize(doc)\n",
    "        output = [lemmatizer.lemmatize(t) for t in tokens]\n",
    "        lemmatized.append(' '.join(output))\n",
    "    return lemmatized\n",
    "\n",
    "def txt_process(df, col, lower=True, punctuation=True, whitespace=True, stopwords=True, lemma=True):\n",
    "    clean_corpus = list(df[col])\n",
    "    \n",
    "    if lower:\n",
    "        clean_corpus = make_lower(clean_corpus)\n",
    "        \n",
    "    if punctuation:\n",
    "        clean_corpus = remove_punctuation(clean_corpus)\n",
    "        \n",
    "    if whitespace:\n",
    "        clean_corpus = remove_whitespace(clean_corpus)\n",
    "        \n",
    "    if stopwords:\n",
    "        clean_corpus = remove_stopwords(clean_corpus)\n",
    "        \n",
    "    if lemma:\n",
    "        clean_corpus = lemmatize(clean_corpus)\n",
    "        \n",
    "    df['clean_text'] = clean_corpus"
   ]
  },
  {
   "cell_type": "code",
   "execution_count": 35,
   "metadata": {},
   "outputs": [
    {
     "name": "stdout",
     "output_type": "stream",
     "text": [
      "The main problem is, that it's not a real open world game. If you focus on the main story, like many reviewers and some users do, you will experience a linear and scripted game with almost no freedom. Every time you try something different the missions will fail.Controls aren't very good, so it's also hard to recommend the game for that linear story experience.\r\n",
      "\r\n",
      "The separate and realThe main problem is, that it's not a real open world game. If you focus on the main story, like many reviewers and some users do, you will experience a linear and scripted game with almost no freedom. Every time you try something different the missions will fail.Controls aren't very good, so it's also hard to recommend the game for that linear story experience.The separate and real open world part is done quite well, but it doesn't have enough interesting and coherent/interlocking elements to keep you motivated very long. If you remove the linear story and high production value, it's the usual open world stuff, we've known for years, mixed with light survival elements.So what you will get is an average to good open world sandbox for maybe 15-20 hours of random fun and a separate, very scripted and cinematic game with high production value. Both parts have average gameplay and problematic controls. The only highlights and reasons to play the game are its great graphics, atmosphere and story.…Expand\n",
      "main problem real open world game focus main story like reviewer user experience linear scripted game freedom time try different mission failcontrols arent good hard recommend game linear story experience separate realthe main problem real open world game focus main story like reviewer user experience linear scripted game freedom time try different mission failcontrols arent good hard recommend game linear story experiencethe separate real open world quite doesnt interesting coherentinterlocking element motivated long remove linear story high production value usual open world stuff weve known year mixed light survival elementsso average good open world sandbox maybe 1520 hour random fun separate scripted cinematic game high production value part average gameplay problematic control highlight reason play game great graphic atmosphere story…expand\n"
     ]
    }
   ],
   "source": [
    "test = gameReviews.iloc[0:10,:].copy()\n",
    "\n",
    "txt_process(test, 'review')\n",
    "\n",
    "print(test.review[0])\n",
    "print(test.clean_text[0])"
   ]
  },
  {
   "cell_type": "code",
   "execution_count": null,
   "metadata": {},
   "outputs": [],
   "source": [
    "#def identify_lang(docs):"
   ]
  },
  {
   "cell_type": "markdown",
   "metadata": {},
   "source": [
    "### EDA"
   ]
  },
  {
   "cell_type": "code",
   "execution_count": null,
   "metadata": {},
   "outputs": [],
   "source": [
    "from wordcloud import WordCloud, STOPWORDS\n",
    "from sklearn.feature_extraction.text import CountVectorizer, TfidfVectorizer, ENGLISH_STOP_WORDS"
   ]
  }
 ],
 "metadata": {
  "kernelspec": {
   "display_name": "Python 3",
   "language": "python",
   "name": "python3"
  },
  "language_info": {
   "codemirror_mode": {
    "name": "ipython",
    "version": 3
   },
   "file_extension": ".py",
   "mimetype": "text/x-python",
   "name": "python",
   "nbconvert_exporter": "python",
   "pygments_lexer": "ipython3",
   "version": "3.7.7"
  }
 },
 "nbformat": 4,
 "nbformat_minor": 4
}
