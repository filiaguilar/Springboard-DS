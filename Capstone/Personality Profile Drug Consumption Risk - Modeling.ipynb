{
 "cells": [
  {
   "cell_type": "markdown",
   "metadata": {},
   "source": [
    "# Pre-Processing"
   ]
  },
  {
   "cell_type": "code",
   "execution_count": 1,
   "metadata": {},
   "outputs": [],
   "source": [
    "import pandas as pd\n",
    "import numpy as np\n",
    "import os\n",
    "from sklearn.model_selection import train_test_split\n",
    "from sklearn.preprocessing import StandardScaler"
   ]
  },
  {
   "cell_type": "markdown",
   "metadata": {},
   "source": [
    "### Load and create dataframe to pre-process"
   ]
  },
  {
   "cell_type": "code",
   "execution_count": 2,
   "metadata": {},
   "outputs": [],
   "source": [
    "df = pd.read_csv('drug_consumption_pp.csv', index_col=0)"
   ]
  },
  {
   "cell_type": "code",
   "execution_count": 3,
   "metadata": {},
   "outputs": [],
   "source": [
    "data = df.drop(columns=['ID'])"
   ]
  },
  {
   "cell_type": "markdown",
   "metadata": {},
   "source": [
    "### Create dummy variables to categorical features"
   ]
  },
  {
   "cell_type": "code",
   "execution_count": 4,
   "metadata": {},
   "outputs": [
    {
     "name": "stdout",
     "output_type": "stream",
     "text": [
      "['Alcohol', 'Amphetamines', 'Amyl', 'Benzos', 'Caffeine', 'Cannabis', 'Chocolate', 'Cocaine', 'Crack', 'Ecstasy', 'Heroin', 'Ketamine', 'Legal Highs', 'LSD', 'Methadone', 'Mushrooms', 'Nicotine', 'VSA']\n"
     ]
    }
   ],
   "source": [
    "idx_alcohol = data.columns.get_loc('Alcohol')\n",
    "idx_vsa = data.columns.get_loc('VSA')\n",
    "\n",
    "drugs = list(data.iloc[:,idx_alcohol:idx_vsa+1].columns)\n",
    "print(drugs)"
   ]
  },
  {
   "cell_type": "code",
   "execution_count": 5,
   "metadata": {},
   "outputs": [
    {
     "data": {
      "text/html": [
       "<div>\n",
       "<style scoped>\n",
       "    .dataframe tbody tr th:only-of-type {\n",
       "        vertical-align: middle;\n",
       "    }\n",
       "\n",
       "    .dataframe tbody tr th {\n",
       "        vertical-align: top;\n",
       "    }\n",
       "\n",
       "    .dataframe thead th {\n",
       "        text-align: right;\n",
       "    }\n",
       "</style>\n",
       "<table border=\"1\" class=\"dataframe\">\n",
       "  <thead>\n",
       "    <tr style=\"text-align: right;\">\n",
       "      <th></th>\n",
       "      <th>Age</th>\n",
       "      <th>Gender</th>\n",
       "      <th>Education</th>\n",
       "      <th>Country</th>\n",
       "      <th>Neuroticism</th>\n",
       "      <th>Extraversion</th>\n",
       "      <th>Openness_to_Experience</th>\n",
       "      <th>Agreeableness</th>\n",
       "      <th>Conscientiousness</th>\n",
       "      <th>Impulsiveness</th>\n",
       "      <th>Sensation-Seeking</th>\n",
       "      <th>Alcohol</th>\n",
       "      <th>Amphetamines</th>\n",
       "      <th>Amyl</th>\n",
       "      <th>Benzos</th>\n",
       "      <th>Caffeine</th>\n",
       "      <th>Cannabis</th>\n",
       "      <th>Chocolate</th>\n",
       "      <th>Cocaine</th>\n",
       "      <th>Crack</th>\n",
       "      <th>Ecstasy</th>\n",
       "      <th>Heroin</th>\n",
       "      <th>Ketamine</th>\n",
       "      <th>Legal Highs</th>\n",
       "      <th>LSD</th>\n",
       "      <th>Methadone</th>\n",
       "      <th>Mushrooms</th>\n",
       "      <th>Nicotine</th>\n",
       "      <th>VSA</th>\n",
       "    </tr>\n",
       "  </thead>\n",
       "  <tbody>\n",
       "    <tr>\n",
       "      <th>0</th>\n",
       "      <td>35-44</td>\n",
       "      <td>0</td>\n",
       "      <td>Professional certificate/diploma</td>\n",
       "      <td>UK</td>\n",
       "      <td>39.0</td>\n",
       "      <td>36.0</td>\n",
       "      <td>42.0</td>\n",
       "      <td>37.0</td>\n",
       "      <td>42.0</td>\n",
       "      <td>-0.21712</td>\n",
       "      <td>-1.18084</td>\n",
       "      <td>1</td>\n",
       "      <td>1</td>\n",
       "      <td>0</td>\n",
       "      <td>1</td>\n",
       "      <td>1</td>\n",
       "      <td>0</td>\n",
       "      <td>1</td>\n",
       "      <td>0</td>\n",
       "      <td>0</td>\n",
       "      <td>0</td>\n",
       "      <td>0</td>\n",
       "      <td>0</td>\n",
       "      <td>0</td>\n",
       "      <td>0</td>\n",
       "      <td>0</td>\n",
       "      <td>0</td>\n",
       "      <td>1</td>\n",
       "      <td>0</td>\n",
       "    </tr>\n",
       "    <tr>\n",
       "      <th>1</th>\n",
       "      <td>25-34</td>\n",
       "      <td>1</td>\n",
       "      <td>Doctorate</td>\n",
       "      <td>UK</td>\n",
       "      <td>29.0</td>\n",
       "      <td>52.0</td>\n",
       "      <td>55.0</td>\n",
       "      <td>48.0</td>\n",
       "      <td>41.0</td>\n",
       "      <td>-0.71126</td>\n",
       "      <td>-0.21575</td>\n",
       "      <td>1</td>\n",
       "      <td>1</td>\n",
       "      <td>1</td>\n",
       "      <td>0</td>\n",
       "      <td>1</td>\n",
       "      <td>1</td>\n",
       "      <td>1</td>\n",
       "      <td>1</td>\n",
       "      <td>0</td>\n",
       "      <td>1</td>\n",
       "      <td>0</td>\n",
       "      <td>1</td>\n",
       "      <td>0</td>\n",
       "      <td>1</td>\n",
       "      <td>1</td>\n",
       "      <td>0</td>\n",
       "      <td>1</td>\n",
       "      <td>0</td>\n",
       "    </tr>\n",
       "    <tr>\n",
       "      <th>2</th>\n",
       "      <td>35-44</td>\n",
       "      <td>1</td>\n",
       "      <td>Professional certificate/diploma</td>\n",
       "      <td>UK</td>\n",
       "      <td>31.0</td>\n",
       "      <td>45.0</td>\n",
       "      <td>40.0</td>\n",
       "      <td>32.0</td>\n",
       "      <td>34.0</td>\n",
       "      <td>-1.37983</td>\n",
       "      <td>0.40148</td>\n",
       "      <td>1</td>\n",
       "      <td>0</td>\n",
       "      <td>0</td>\n",
       "      <td>0</td>\n",
       "      <td>1</td>\n",
       "      <td>1</td>\n",
       "      <td>1</td>\n",
       "      <td>0</td>\n",
       "      <td>0</td>\n",
       "      <td>0</td>\n",
       "      <td>0</td>\n",
       "      <td>0</td>\n",
       "      <td>0</td>\n",
       "      <td>0</td>\n",
       "      <td>0</td>\n",
       "      <td>0</td>\n",
       "      <td>0</td>\n",
       "      <td>0</td>\n",
       "    </tr>\n",
       "    <tr>\n",
       "      <th>3</th>\n",
       "      <td>18-24</td>\n",
       "      <td>0</td>\n",
       "      <td>Masters</td>\n",
       "      <td>UK</td>\n",
       "      <td>34.0</td>\n",
       "      <td>34.0</td>\n",
       "      <td>46.0</td>\n",
       "      <td>47.0</td>\n",
       "      <td>46.0</td>\n",
       "      <td>-1.37983</td>\n",
       "      <td>-1.18084</td>\n",
       "      <td>1</td>\n",
       "      <td>0</td>\n",
       "      <td>0</td>\n",
       "      <td>1</td>\n",
       "      <td>1</td>\n",
       "      <td>1</td>\n",
       "      <td>1</td>\n",
       "      <td>1</td>\n",
       "      <td>0</td>\n",
       "      <td>0</td>\n",
       "      <td>0</td>\n",
       "      <td>1</td>\n",
       "      <td>0</td>\n",
       "      <td>0</td>\n",
       "      <td>0</td>\n",
       "      <td>0</td>\n",
       "      <td>1</td>\n",
       "      <td>0</td>\n",
       "    </tr>\n",
       "    <tr>\n",
       "      <th>4</th>\n",
       "      <td>35-44</td>\n",
       "      <td>0</td>\n",
       "      <td>Doctorate</td>\n",
       "      <td>UK</td>\n",
       "      <td>43.0</td>\n",
       "      <td>28.0</td>\n",
       "      <td>43.0</td>\n",
       "      <td>41.0</td>\n",
       "      <td>50.0</td>\n",
       "      <td>-0.21712</td>\n",
       "      <td>-0.21575</td>\n",
       "      <td>1</td>\n",
       "      <td>0</td>\n",
       "      <td>0</td>\n",
       "      <td>0</td>\n",
       "      <td>1</td>\n",
       "      <td>1</td>\n",
       "      <td>1</td>\n",
       "      <td>0</td>\n",
       "      <td>0</td>\n",
       "      <td>0</td>\n",
       "      <td>0</td>\n",
       "      <td>0</td>\n",
       "      <td>0</td>\n",
       "      <td>0</td>\n",
       "      <td>0</td>\n",
       "      <td>1</td>\n",
       "      <td>1</td>\n",
       "      <td>0</td>\n",
       "    </tr>\n",
       "  </tbody>\n",
       "</table>\n",
       "</div>"
      ],
      "text/plain": [
       "     Age  Gender                         Education Country  Neuroticism  \\\n",
       "0  35-44       0  Professional certificate/diploma      UK         39.0   \n",
       "1  25-34       1                         Doctorate      UK         29.0   \n",
       "2  35-44       1  Professional certificate/diploma      UK         31.0   \n",
       "3  18-24       0                           Masters      UK         34.0   \n",
       "4  35-44       0                         Doctorate      UK         43.0   \n",
       "\n",
       "   Extraversion  Openness_to_Experience  Agreeableness  Conscientiousness  \\\n",
       "0          36.0                    42.0           37.0               42.0   \n",
       "1          52.0                    55.0           48.0               41.0   \n",
       "2          45.0                    40.0           32.0               34.0   \n",
       "3          34.0                    46.0           47.0               46.0   \n",
       "4          28.0                    43.0           41.0               50.0   \n",
       "\n",
       "   Impulsiveness  Sensation-Seeking  Alcohol  Amphetamines  Amyl  Benzos  \\\n",
       "0       -0.21712           -1.18084        1             1     0       1   \n",
       "1       -0.71126           -0.21575        1             1     1       0   \n",
       "2       -1.37983            0.40148        1             0     0       0   \n",
       "3       -1.37983           -1.18084        1             0     0       1   \n",
       "4       -0.21712           -0.21575        1             0     0       0   \n",
       "\n",
       "   Caffeine  Cannabis  Chocolate  Cocaine  Crack  Ecstasy  Heroin  Ketamine  \\\n",
       "0         1         0          1        0      0        0       0         0   \n",
       "1         1         1          1        1      0        1       0         1   \n",
       "2         1         1          1        0      0        0       0         0   \n",
       "3         1         1          1        1      0        0       0         1   \n",
       "4         1         1          1        0      0        0       0         0   \n",
       "\n",
       "   Legal Highs  LSD  Methadone  Mushrooms  Nicotine  VSA  \n",
       "0            0    0          0          0         1    0  \n",
       "1            0    1          1          0         1    0  \n",
       "2            0    0          0          0         0    0  \n",
       "3            0    0          0          0         1    0  \n",
       "4            0    0          0          1         1    0  "
      ]
     },
     "execution_count": 5,
     "metadata": {},
     "output_type": "execute_result"
    }
   ],
   "source": [
    "data['Gender'] = data['Gender'].replace(('Female','Male'), (0,1))\n",
    "data[drugs] = data[drugs].replace(('Non-user','User'), (0,1))\n",
    "\n",
    "pd.set_option('display.max_columns', None)\n",
    "data.head()"
   ]
  },
  {
   "cell_type": "code",
   "execution_count": 6,
   "metadata": {},
   "outputs": [
    {
     "data": {
      "text/html": [
       "<div>\n",
       "<style scoped>\n",
       "    .dataframe tbody tr th:only-of-type {\n",
       "        vertical-align: middle;\n",
       "    }\n",
       "\n",
       "    .dataframe tbody tr th {\n",
       "        vertical-align: top;\n",
       "    }\n",
       "\n",
       "    .dataframe thead th {\n",
       "        text-align: right;\n",
       "    }\n",
       "</style>\n",
       "<table border=\"1\" class=\"dataframe\">\n",
       "  <thead>\n",
       "    <tr style=\"text-align: right;\">\n",
       "      <th></th>\n",
       "      <th>Gender</th>\n",
       "      <th>Neuroticism</th>\n",
       "      <th>Extraversion</th>\n",
       "      <th>Openness_to_Experience</th>\n",
       "      <th>Agreeableness</th>\n",
       "      <th>Conscientiousness</th>\n",
       "      <th>Impulsiveness</th>\n",
       "      <th>Sensation-Seeking</th>\n",
       "      <th>Alcohol</th>\n",
       "      <th>Amphetamines</th>\n",
       "      <th>Amyl</th>\n",
       "      <th>Benzos</th>\n",
       "      <th>Caffeine</th>\n",
       "      <th>Cannabis</th>\n",
       "      <th>Chocolate</th>\n",
       "      <th>Cocaine</th>\n",
       "      <th>Crack</th>\n",
       "      <th>Ecstasy</th>\n",
       "      <th>Heroin</th>\n",
       "      <th>Ketamine</th>\n",
       "      <th>Legal Highs</th>\n",
       "      <th>LSD</th>\n",
       "      <th>Methadone</th>\n",
       "      <th>Mushrooms</th>\n",
       "      <th>Nicotine</th>\n",
       "      <th>VSA</th>\n",
       "      <th>Age_25-34</th>\n",
       "      <th>Age_35-44</th>\n",
       "      <th>Age_45-54</th>\n",
       "      <th>Age_55+</th>\n",
       "      <th>Education_Doctorate</th>\n",
       "      <th>Education_Left school at 17 or younger</th>\n",
       "      <th>Education_Left school at 18</th>\n",
       "      <th>Education_Masters</th>\n",
       "      <th>Education_Professional certificate/diploma</th>\n",
       "      <th>Education_Some college/university</th>\n",
       "      <th>Country_Other</th>\n",
       "      <th>Country_UK</th>\n",
       "      <th>Country_USA</th>\n",
       "    </tr>\n",
       "  </thead>\n",
       "  <tbody>\n",
       "    <tr>\n",
       "      <th>0</th>\n",
       "      <td>0</td>\n",
       "      <td>39.0</td>\n",
       "      <td>36.0</td>\n",
       "      <td>42.0</td>\n",
       "      <td>37.0</td>\n",
       "      <td>42.0</td>\n",
       "      <td>-0.21712</td>\n",
       "      <td>-1.18084</td>\n",
       "      <td>1</td>\n",
       "      <td>1</td>\n",
       "      <td>0</td>\n",
       "      <td>1</td>\n",
       "      <td>1</td>\n",
       "      <td>0</td>\n",
       "      <td>1</td>\n",
       "      <td>0</td>\n",
       "      <td>0</td>\n",
       "      <td>0</td>\n",
       "      <td>0</td>\n",
       "      <td>0</td>\n",
       "      <td>0</td>\n",
       "      <td>0</td>\n",
       "      <td>0</td>\n",
       "      <td>0</td>\n",
       "      <td>1</td>\n",
       "      <td>0</td>\n",
       "      <td>0</td>\n",
       "      <td>1</td>\n",
       "      <td>0</td>\n",
       "      <td>0</td>\n",
       "      <td>0</td>\n",
       "      <td>0</td>\n",
       "      <td>0</td>\n",
       "      <td>0</td>\n",
       "      <td>1</td>\n",
       "      <td>0</td>\n",
       "      <td>0</td>\n",
       "      <td>1</td>\n",
       "      <td>0</td>\n",
       "    </tr>\n",
       "    <tr>\n",
       "      <th>1</th>\n",
       "      <td>1</td>\n",
       "      <td>29.0</td>\n",
       "      <td>52.0</td>\n",
       "      <td>55.0</td>\n",
       "      <td>48.0</td>\n",
       "      <td>41.0</td>\n",
       "      <td>-0.71126</td>\n",
       "      <td>-0.21575</td>\n",
       "      <td>1</td>\n",
       "      <td>1</td>\n",
       "      <td>1</td>\n",
       "      <td>0</td>\n",
       "      <td>1</td>\n",
       "      <td>1</td>\n",
       "      <td>1</td>\n",
       "      <td>1</td>\n",
       "      <td>0</td>\n",
       "      <td>1</td>\n",
       "      <td>0</td>\n",
       "      <td>1</td>\n",
       "      <td>0</td>\n",
       "      <td>1</td>\n",
       "      <td>1</td>\n",
       "      <td>0</td>\n",
       "      <td>1</td>\n",
       "      <td>0</td>\n",
       "      <td>1</td>\n",
       "      <td>0</td>\n",
       "      <td>0</td>\n",
       "      <td>0</td>\n",
       "      <td>1</td>\n",
       "      <td>0</td>\n",
       "      <td>0</td>\n",
       "      <td>0</td>\n",
       "      <td>0</td>\n",
       "      <td>0</td>\n",
       "      <td>0</td>\n",
       "      <td>1</td>\n",
       "      <td>0</td>\n",
       "    </tr>\n",
       "    <tr>\n",
       "      <th>2</th>\n",
       "      <td>1</td>\n",
       "      <td>31.0</td>\n",
       "      <td>45.0</td>\n",
       "      <td>40.0</td>\n",
       "      <td>32.0</td>\n",
       "      <td>34.0</td>\n",
       "      <td>-1.37983</td>\n",
       "      <td>0.40148</td>\n",
       "      <td>1</td>\n",
       "      <td>0</td>\n",
       "      <td>0</td>\n",
       "      <td>0</td>\n",
       "      <td>1</td>\n",
       "      <td>1</td>\n",
       "      <td>1</td>\n",
       "      <td>0</td>\n",
       "      <td>0</td>\n",
       "      <td>0</td>\n",
       "      <td>0</td>\n",
       "      <td>0</td>\n",
       "      <td>0</td>\n",
       "      <td>0</td>\n",
       "      <td>0</td>\n",
       "      <td>0</td>\n",
       "      <td>0</td>\n",
       "      <td>0</td>\n",
       "      <td>0</td>\n",
       "      <td>1</td>\n",
       "      <td>0</td>\n",
       "      <td>0</td>\n",
       "      <td>0</td>\n",
       "      <td>0</td>\n",
       "      <td>0</td>\n",
       "      <td>0</td>\n",
       "      <td>1</td>\n",
       "      <td>0</td>\n",
       "      <td>0</td>\n",
       "      <td>1</td>\n",
       "      <td>0</td>\n",
       "    </tr>\n",
       "    <tr>\n",
       "      <th>3</th>\n",
       "      <td>0</td>\n",
       "      <td>34.0</td>\n",
       "      <td>34.0</td>\n",
       "      <td>46.0</td>\n",
       "      <td>47.0</td>\n",
       "      <td>46.0</td>\n",
       "      <td>-1.37983</td>\n",
       "      <td>-1.18084</td>\n",
       "      <td>1</td>\n",
       "      <td>0</td>\n",
       "      <td>0</td>\n",
       "      <td>1</td>\n",
       "      <td>1</td>\n",
       "      <td>1</td>\n",
       "      <td>1</td>\n",
       "      <td>1</td>\n",
       "      <td>0</td>\n",
       "      <td>0</td>\n",
       "      <td>0</td>\n",
       "      <td>1</td>\n",
       "      <td>0</td>\n",
       "      <td>0</td>\n",
       "      <td>0</td>\n",
       "      <td>0</td>\n",
       "      <td>1</td>\n",
       "      <td>0</td>\n",
       "      <td>0</td>\n",
       "      <td>0</td>\n",
       "      <td>0</td>\n",
       "      <td>0</td>\n",
       "      <td>0</td>\n",
       "      <td>0</td>\n",
       "      <td>0</td>\n",
       "      <td>1</td>\n",
       "      <td>0</td>\n",
       "      <td>0</td>\n",
       "      <td>0</td>\n",
       "      <td>1</td>\n",
       "      <td>0</td>\n",
       "    </tr>\n",
       "    <tr>\n",
       "      <th>4</th>\n",
       "      <td>0</td>\n",
       "      <td>43.0</td>\n",
       "      <td>28.0</td>\n",
       "      <td>43.0</td>\n",
       "      <td>41.0</td>\n",
       "      <td>50.0</td>\n",
       "      <td>-0.21712</td>\n",
       "      <td>-0.21575</td>\n",
       "      <td>1</td>\n",
       "      <td>0</td>\n",
       "      <td>0</td>\n",
       "      <td>0</td>\n",
       "      <td>1</td>\n",
       "      <td>1</td>\n",
       "      <td>1</td>\n",
       "      <td>0</td>\n",
       "      <td>0</td>\n",
       "      <td>0</td>\n",
       "      <td>0</td>\n",
       "      <td>0</td>\n",
       "      <td>0</td>\n",
       "      <td>0</td>\n",
       "      <td>0</td>\n",
       "      <td>1</td>\n",
       "      <td>1</td>\n",
       "      <td>0</td>\n",
       "      <td>0</td>\n",
       "      <td>1</td>\n",
       "      <td>0</td>\n",
       "      <td>0</td>\n",
       "      <td>1</td>\n",
       "      <td>0</td>\n",
       "      <td>0</td>\n",
       "      <td>0</td>\n",
       "      <td>0</td>\n",
       "      <td>0</td>\n",
       "      <td>0</td>\n",
       "      <td>1</td>\n",
       "      <td>0</td>\n",
       "    </tr>\n",
       "  </tbody>\n",
       "</table>\n",
       "</div>"
      ],
      "text/plain": [
       "   Gender  Neuroticism  Extraversion  Openness_to_Experience  Agreeableness  \\\n",
       "0       0         39.0          36.0                    42.0           37.0   \n",
       "1       1         29.0          52.0                    55.0           48.0   \n",
       "2       1         31.0          45.0                    40.0           32.0   \n",
       "3       0         34.0          34.0                    46.0           47.0   \n",
       "4       0         43.0          28.0                    43.0           41.0   \n",
       "\n",
       "   Conscientiousness  Impulsiveness  Sensation-Seeking  Alcohol  Amphetamines  \\\n",
       "0               42.0       -0.21712           -1.18084        1             1   \n",
       "1               41.0       -0.71126           -0.21575        1             1   \n",
       "2               34.0       -1.37983            0.40148        1             0   \n",
       "3               46.0       -1.37983           -1.18084        1             0   \n",
       "4               50.0       -0.21712           -0.21575        1             0   \n",
       "\n",
       "   Amyl  Benzos  Caffeine  Cannabis  Chocolate  Cocaine  Crack  Ecstasy  \\\n",
       "0     0       1         1         0          1        0      0        0   \n",
       "1     1       0         1         1          1        1      0        1   \n",
       "2     0       0         1         1          1        0      0        0   \n",
       "3     0       1         1         1          1        1      0        0   \n",
       "4     0       0         1         1          1        0      0        0   \n",
       "\n",
       "   Heroin  Ketamine  Legal Highs  LSD  Methadone  Mushrooms  Nicotine  VSA  \\\n",
       "0       0         0            0    0          0          0         1    0   \n",
       "1       0         1            0    1          1          0         1    0   \n",
       "2       0         0            0    0          0          0         0    0   \n",
       "3       0         1            0    0          0          0         1    0   \n",
       "4       0         0            0    0          0          1         1    0   \n",
       "\n",
       "   Age_25-34  Age_35-44  Age_45-54  Age_55+  Education_Doctorate  \\\n",
       "0          0          1          0        0                    0   \n",
       "1          1          0          0        0                    1   \n",
       "2          0          1          0        0                    0   \n",
       "3          0          0          0        0                    0   \n",
       "4          0          1          0        0                    1   \n",
       "\n",
       "   Education_Left school at 17 or younger  Education_Left school at 18  \\\n",
       "0                                       0                            0   \n",
       "1                                       0                            0   \n",
       "2                                       0                            0   \n",
       "3                                       0                            0   \n",
       "4                                       0                            0   \n",
       "\n",
       "   Education_Masters  Education_Professional certificate/diploma  \\\n",
       "0                  0                                           1   \n",
       "1                  0                                           0   \n",
       "2                  0                                           1   \n",
       "3                  1                                           0   \n",
       "4                  0                                           0   \n",
       "\n",
       "   Education_Some college/university  Country_Other  Country_UK  Country_USA  \n",
       "0                                  0              0           1            0  \n",
       "1                                  0              0           1            0  \n",
       "2                                  0              0           1            0  \n",
       "3                                  0              0           1            0  \n",
       "4                                  0              0           1            0  "
      ]
     },
     "execution_count": 6,
     "metadata": {},
     "output_type": "execute_result"
    }
   ],
   "source": [
    "dfo = data.select_dtypes(include='object')\n",
    "data = pd.concat([data.drop(dfo, axis=1), pd.get_dummies(dfo, drop_first=True)], axis=1)\n",
    "data.head()"
   ]
  },
  {
   "cell_type": "markdown",
   "metadata": {},
   "source": [
    "### Standardize and split data into test/training sets"
   ]
  },
  {
   "cell_type": "code",
   "execution_count": 7,
   "metadata": {},
   "outputs": [],
   "source": [
    "X = data.drop(columns=['Nicotine'])\n",
    "y = data.Nicotine\n",
    "\n",
    "SS = StandardScaler()\n",
    "X_scaled = SS.fit_transform(X)\n",
    "y = y.ravel()"
   ]
  },
  {
   "cell_type": "code",
   "execution_count": 8,
   "metadata": {},
   "outputs": [],
   "source": [
    "X_train, X_test, y_train, y_test = train_test_split(X_scaled, y, test_size=0.25, random_state=1)"
   ]
  },
  {
   "cell_type": "markdown",
   "metadata": {},
   "source": [
    "# Modeling"
   ]
  },
  {
   "cell_type": "markdown",
   "metadata": {},
   "source": [
    "The aim of this project is to predict whether a someone is a nicotine user based on different personality traits and other drug usage. As this is a classification problem six different models will be explored: <br>\n",
    "- K-nearest Neighbors (KNN)\n",
    "- Logistic Regression\n",
    "- Support Vector Machines (SVM)\n",
    "- Random Forests\n",
    "- Naive Bayes\n",
    "- Gradient Boost <br>\n",
    "\n",
    "The models will be evaluated by cross validation initially to determine the best two models. After distinguishing the models with the best performance, the best hyperparameters will be evaluated through grid searching to optimize their performance."
   ]
  },
  {
   "cell_type": "code",
   "execution_count": 55,
   "metadata": {},
   "outputs": [],
   "source": [
    "#Import models and metrics\n",
    "from sklearn.neighbors import KNeighborsClassifier\n",
    "from sklearn.linear_model import LogisticRegression\n",
    "from sklearn.svm import SVC\n",
    "from sklearn.ensemble import RandomForestClassifier, GradientBoostingClassifier\n",
    "from sklearn.naive_bayes import GaussianNB\n",
    "from sklearn.metrics import accuracy_score, confusion_matrix, classification_report\n",
    "from sklearn.model_selection import cross_val_score"
   ]
  },
  {
   "cell_type": "markdown",
   "metadata": {},
   "source": [
    "### KNN"
   ]
  },
  {
   "cell_type": "code",
   "execution_count": 15,
   "metadata": {},
   "outputs": [
    {
     "name": "stdout",
     "output_type": "stream",
     "text": [
      "Number of neighbors = 5   Accuracy_score = 0.7245762711864406\n",
      "Number of neighbors = 10   Accuracy_score = 0.7245762711864406\n",
      "Number of neighbors = 15   Accuracy_score = 0.7542372881355932\n",
      "Number of neighbors = 20   Accuracy_score = 0.75\n",
      "Number of neighbors = 25   Accuracy_score = 0.7584745762711864\n",
      "Number of neighbors = 30   Accuracy_score = 0.7627118644067796\n",
      "Number of neighbors = 35   Accuracy_score = 0.760593220338983\n",
      "Number of neighbors = 40   Accuracy_score = 0.7648305084745762\n",
      "Number of neighbors = 45   Accuracy_score = 0.7542372881355932\n",
      "Number of neighbors = 50   Accuracy_score = 0.7563559322033898\n",
      "Number of neighbors = 55   Accuracy_score = 0.7584745762711864\n",
      "Number of neighbors = 60   Accuracy_score = 0.760593220338983\n",
      "Number of neighbors = 65   Accuracy_score = 0.7711864406779662\n",
      "Number of neighbors = 70   Accuracy_score = 0.7690677966101694\n",
      "Number of neighbors = 75   Accuracy_score = 0.760593220338983\n",
      "Number of neighbors = 80   Accuracy_score = 0.7627118644067796\n",
      "Number of neighbors = 85   Accuracy_score = 0.760593220338983\n",
      "Number of neighbors = 90   Accuracy_score = 0.760593220338983\n",
      "Number of neighbors = 95   Accuracy_score = 0.7521186440677966\n",
      "Number of neighbors = 100   Accuracy_score = 0.7563559322033898\n"
     ]
    }
   ],
   "source": [
    "#Determine good n_neighbors for knn through quick for loop\n",
    "for n in range(5,101,5):\n",
    "    knn = KNeighborsClassifier(weights='distance', n_neighbors=n)\n",
    "    knn.fit(X_train, y_train)\n",
    "    \n",
    "    y_pred_knn = knn.predict(X_test)\n",
    "    acc_knn = accuracy_score(y_test, y_pred_knn)\n",
    "    \n",
    "    print('Number of neighbors =', n, '  Accuracy_score =', acc_knn)"
   ]
  },
  {
   "cell_type": "code",
   "execution_count": 17,
   "metadata": {},
   "outputs": [
    {
     "data": {
      "text/plain": [
       "0.7711864406779662"
      ]
     },
     "execution_count": 17,
     "metadata": {},
     "output_type": "execute_result"
    }
   ],
   "source": [
    "#Selected 65 number of neighbors to proceed with cross validation\n",
    "knn = KNeighborsClassifier(weights='distance', n_neighbors=65)\n",
    "knn.fit(X_train, y_train)\n",
    "knn.score(X_test, y_test)"
   ]
  },
  {
   "cell_type": "code",
   "execution_count": 35,
   "metadata": {},
   "outputs": [],
   "source": [
    "#Cross validation function to check mean score and std for each classifier\n",
    "def cross_validate(classifier, X_test, y_test, X_train, y_train, scoring):\n",
    "    cv_scores_train= cross_val_score(classifier,X_train,y_train,cv=5,scoring=scoring)\n",
    "    print('Cross validation scores for training set:', cv_scores_train)\n",
    "    cv_scores_test= cross_val_score(classifier,X_test,y_test,cv=5,scoring=scoring)\n",
    "    print('Cross validation scores for test set:', cv_scores_test, '\\n')\n",
    "\n",
    "    cv_scores_knn_test= cv_scores_test.mean()\n",
    "    cv_scores_knn_train= cv_scores_train.mean()\n",
    "    \n",
    "    print ('Mean cv train score: ' +str(cv_scores_knn_train))\n",
    "    print ('Std cv train score: ' +str(cv_scores_train.std()), '\\n')\n",
    "    \n",
    "    print ('Mean cv test score: ' +str(cv_scores_knn_test))\n",
    "    print ('Std cv test score: ' +str(cv_scores_test.std()), '\\n')"
   ]
  },
  {
   "cell_type": "code",
   "execution_count": 36,
   "metadata": {},
   "outputs": [
    {
     "name": "stdout",
     "output_type": "stream",
     "text": [
      "Cross validation scores for training set: [0.80254419 0.83005093 0.82897566 0.82727428 0.82579507]\n",
      "Cross validation scores for test set: [0.75554435 0.82610887 0.78136201 0.86584741 0.8499744 ] \n",
      "\n",
      "Mean cv train score: 0.8229280272543888\n",
      "Std cv train score: 0.010294858700291381 \n",
      "\n",
      "Mean cv test score: 0.8157674091141833\n",
      "Std cv test score: 0.041462317370836575 \n",
      "\n"
     ]
    }
   ],
   "source": [
    "cross_validate(knn, X_test, y_test, X_train, y_train, 'roc_auc')"
   ]
  },
  {
   "cell_type": "code",
   "execution_count": 56,
   "metadata": {},
   "outputs": [],
   "source": [
    "def cfn_mtx(y_test, y_pred):\n",
    "    print(confusion_matrix(y_test, y_pred))\n",
    "    print(classification_report(y_test, y_pred))"
   ]
  },
  {
   "cell_type": "code",
   "execution_count": 57,
   "metadata": {},
   "outputs": [
    {
     "name": "stdout",
     "output_type": "stream",
     "text": [
      "[[108  47]\n",
      " [ 61 256]]\n",
      "              precision    recall  f1-score   support\n",
      "\n",
      "           0       0.64      0.70      0.67       155\n",
      "           1       0.84      0.81      0.83       317\n",
      "\n",
      "    accuracy                           0.77       472\n",
      "   macro avg       0.74      0.75      0.75       472\n",
      "weighted avg       0.78      0.77      0.77       472\n",
      "\n"
     ]
    }
   ],
   "source": [
    "y_pred_knn = knn.predict(X_test)\n",
    "cfn_mtx(y_test, y_pred_knn)"
   ]
  },
  {
   "cell_type": "markdown",
   "metadata": {},
   "source": [
    "### Logistic Regression"
   ]
  },
  {
   "cell_type": "code",
   "execution_count": 37,
   "metadata": {},
   "outputs": [
    {
     "name": "stdout",
     "output_type": "stream",
     "text": [
      "C = 0.001   Accuracy_score = 0.7796610169491526\n",
      "C = 0.01   Accuracy_score = 0.7902542372881356\n",
      "C = 0.1   Accuracy_score = 0.788135593220339\n",
      "C = 1   Accuracy_score = 0.7838983050847458\n",
      "C = 10   Accuracy_score = 0.7838983050847458\n"
     ]
    }
   ],
   "source": [
    "#Determine good inverse regularization strength for log reg through quick for loop\n",
    "C = [0.001, 0.01, 0.1, 1, 10]\n",
    "for c in C:\n",
    "    log_r = LogisticRegression(C=c, random_state=5)\n",
    "    log_r.fit(X_train, y_train)\n",
    "    \n",
    "    y_pred_log_r = log_r.predict(X_test)\n",
    "    acc_log_r = accuracy_score(y_test, y_pred_log_r)\n",
    "    \n",
    "    print('C =', c, '  Accuracy_score =', acc_log_r)"
   ]
  },
  {
   "cell_type": "code",
   "execution_count": 38,
   "metadata": {},
   "outputs": [
    {
     "data": {
      "text/plain": [
       "0.7902542372881356"
      ]
     },
     "execution_count": 38,
     "metadata": {},
     "output_type": "execute_result"
    }
   ],
   "source": [
    "#Selected 0.01 inv regularization strength to proceed with cross validation\n",
    "log_r = LogisticRegression(C=0.01, random_state=5)\n",
    "log_r.fit(X_train, y_train)\n",
    "log_r.score(X_test, y_test)"
   ]
  },
  {
   "cell_type": "code",
   "execution_count": 39,
   "metadata": {},
   "outputs": [
    {
     "name": "stdout",
     "output_type": "stream",
     "text": [
      "Cross validation scores for training set: [0.8153214  0.8466893  0.82637238 0.84337486 0.84087159]\n",
      "Cross validation scores for test set: [0.74747984 0.82762097 0.80798771 0.86379928 0.84280594] \n",
      "\n",
      "Mean cv train score: 0.8345259090684081\n",
      "Std cv train score: 0.011847472735327559 \n",
      "\n",
      "Mean cv test score: 0.817938748079877\n",
      "Std cv test score: 0.03969582424473494 \n",
      "\n"
     ]
    }
   ],
   "source": [
    "cross_validate(log_r, X_test, y_test, X_train, y_train, 'roc_auc')"
   ]
  },
  {
   "cell_type": "code",
   "execution_count": 58,
   "metadata": {},
   "outputs": [
    {
     "name": "stdout",
     "output_type": "stream",
     "text": [
      "[[100  55]\n",
      " [ 44 273]]\n",
      "              precision    recall  f1-score   support\n",
      "\n",
      "           0       0.69      0.65      0.67       155\n",
      "           1       0.83      0.86      0.85       317\n",
      "\n",
      "    accuracy                           0.79       472\n",
      "   macro avg       0.76      0.75      0.76       472\n",
      "weighted avg       0.79      0.79      0.79       472\n",
      "\n"
     ]
    }
   ],
   "source": [
    "y_pred_lr = log_r.predict(X_test)\n",
    "cfn_mtx(y_test, y_pred_lr)"
   ]
  },
  {
   "cell_type": "markdown",
   "metadata": {},
   "source": [
    "### SVM"
   ]
  },
  {
   "cell_type": "code",
   "execution_count": 40,
   "metadata": {},
   "outputs": [
    {
     "name": "stdout",
     "output_type": "stream",
     "text": [
      "C = 0.001   Accuracy_score = 0.7923728813559322\n",
      "C = 0.01   Accuracy_score = 0.7966101694915254\n",
      "C = 0.1   Accuracy_score = 0.7966101694915254\n",
      "C = 1   Accuracy_score = 0.7966101694915254\n",
      "C = 10   Accuracy_score = 0.7966101694915254\n"
     ]
    }
   ],
   "source": [
    "#Determine good inverse regularization strength for SVC through quick for loop\n",
    "C = [0.001, 0.01, 0.1, 1, 10]\n",
    "for c in C:\n",
    "    svc = SVC(C=c, kernel='linear')\n",
    "    svc.fit(X_train, y_train)\n",
    "    \n",
    "    y_pred_svc = svc.predict(X_test)\n",
    "    acc_svc = accuracy_score(y_test, y_pred_svc)\n",
    "    \n",
    "    print('C =', c, '  Accuracy_score =', acc_svc)"
   ]
  },
  {
   "cell_type": "code",
   "execution_count": 41,
   "metadata": {},
   "outputs": [
    {
     "data": {
      "text/plain": [
       "0.7966101694915254"
      ]
     },
     "execution_count": 41,
     "metadata": {},
     "output_type": "execute_result"
    }
   ],
   "source": [
    "#Use default inv regularization strength of 1\n",
    "svc = SVC(kernel='linear')\n",
    "svc.fit(X_train, y_train)\n",
    "svc.score(X_test, y_test)"
   ]
  },
  {
   "cell_type": "code",
   "execution_count": 42,
   "metadata": {},
   "outputs": [
    {
     "name": "stdout",
     "output_type": "stream",
     "text": [
      "Cross validation scores for training set: [0.76241135 0.76378042 0.80837578 0.81828526 0.77675371]\n",
      "Cross validation scores for test set: [0.67137097 0.81350806 0.81259601 0.85304659 0.79467486] \n",
      "\n",
      "Mean cv train score: 0.785921303168952\n",
      "Std cv train score: 0.02314567170202692 \n",
      "\n",
      "Mean cv test score: 0.7890392985151049\n",
      "Std cv test score: 0.061851707488203296 \n",
      "\n"
     ]
    }
   ],
   "source": [
    "cross_validate(svc, X_test, y_test, X_train, y_train, 'roc_auc')"
   ]
  },
  {
   "cell_type": "code",
   "execution_count": 59,
   "metadata": {},
   "outputs": [
    {
     "name": "stdout",
     "output_type": "stream",
     "text": [
      "[[107  48]\n",
      " [ 48 269]]\n",
      "              precision    recall  f1-score   support\n",
      "\n",
      "           0       0.69      0.69      0.69       155\n",
      "           1       0.85      0.85      0.85       317\n",
      "\n",
      "    accuracy                           0.80       472\n",
      "   macro avg       0.77      0.77      0.77       472\n",
      "weighted avg       0.80      0.80      0.80       472\n",
      "\n"
     ]
    }
   ],
   "source": [
    "y_pred_svc = svc.predict(X_test)\n",
    "cfn_mtx(y_test, y_pred_svc)"
   ]
  },
  {
   "cell_type": "markdown",
   "metadata": {},
   "source": [
    "### Random Forests"
   ]
  },
  {
   "cell_type": "code",
   "execution_count": 45,
   "metadata": {},
   "outputs": [
    {
     "name": "stdout",
     "output_type": "stream",
     "text": [
      "Criterion = gini   Accuracy_score = 0.7966101694915254\n",
      "Criterion = entropy   Accuracy_score = 0.7966101694915254\n"
     ]
    }
   ],
   "source": [
    "#Determine good inverse regularization strength for SVC through quick for loop\n",
    "criterion = ['gini','entropy']\n",
    "for c in criterion:\n",
    "    rf = RandomForestClassifier(criterion=c, bootstrap=True)\n",
    "    rf.fit(X_train, y_train)\n",
    "    \n",
    "    y_pred_rf = rf.predict(X_test)\n",
    "    acc_rf = accuracy_score(y_test, y_pred_rf)\n",
    "    \n",
    "    print('Criterion =', c, '  Accuracy_score =', acc_svc)"
   ]
  },
  {
   "cell_type": "code",
   "execution_count": 46,
   "metadata": {},
   "outputs": [
    {
     "data": {
      "text/plain": [
       "0.7838983050847458"
      ]
     },
     "execution_count": 46,
     "metadata": {},
     "output_type": "execute_result"
    }
   ],
   "source": [
    "#Use default gini criterion, both critertion performed the same\n",
    "rf = RandomForestClassifier(random_state=5)\n",
    "rf.fit(X_train, y_train)\n",
    "rf.score(X_test, y_test)"
   ]
  },
  {
   "cell_type": "code",
   "execution_count": 47,
   "metadata": {},
   "outputs": [
    {
     "name": "stdout",
     "output_type": "stream",
     "text": [
      "Cross validation scores for training set: [0.8020376  0.83203169 0.83347482 0.84035956 0.83654776]\n",
      "Cross validation scores for test set: [0.75100806 0.80166331 0.81822837 0.85125448 0.79595494] \n",
      "\n",
      "Mean cv train score: 0.8288902860369104\n",
      "Std cv train score: 0.013726866289003525 \n",
      "\n",
      "Mean cv test score: 0.803621831797235\n",
      "Std cv test score: 0.032597685817477864 \n",
      "\n"
     ]
    }
   ],
   "source": [
    "cross_validate(rf, X_test, y_test, X_train, y_train, 'roc_auc')"
   ]
  },
  {
   "cell_type": "code",
   "execution_count": 60,
   "metadata": {},
   "outputs": [
    {
     "name": "stdout",
     "output_type": "stream",
     "text": [
      "[[ 94  61]\n",
      " [ 41 276]]\n",
      "              precision    recall  f1-score   support\n",
      "\n",
      "           0       0.70      0.61      0.65       155\n",
      "           1       0.82      0.87      0.84       317\n",
      "\n",
      "    accuracy                           0.78       472\n",
      "   macro avg       0.76      0.74      0.75       472\n",
      "weighted avg       0.78      0.78      0.78       472\n",
      "\n"
     ]
    }
   ],
   "source": [
    "y_pred_rf = rf.predict(X_test)\n",
    "cfn_mtx(y_test, y_pred_rf)"
   ]
  },
  {
   "cell_type": "markdown",
   "metadata": {},
   "source": [
    "### Naive Bayes"
   ]
  },
  {
   "cell_type": "code",
   "execution_count": 48,
   "metadata": {},
   "outputs": [
    {
     "data": {
      "text/plain": [
       "0.722457627118644"
      ]
     },
     "execution_count": 48,
     "metadata": {},
     "output_type": "execute_result"
    }
   ],
   "source": [
    "nb = GaussianNB()\n",
    "nb.fit(X_train, y_train)\n",
    "nb.score(X_test, y_test)"
   ]
  },
  {
   "cell_type": "code",
   "execution_count": 49,
   "metadata": {},
   "outputs": [
    {
     "name": "stdout",
     "output_type": "stream",
     "text": [
      "Cross validation scores for training set: [0.78197118 0.83814375 0.80268817 0.81919554 0.8255675 ]\n",
      "Cross validation scores for test set: [0.72883065 0.78326613 0.81464414 0.85995904 0.82539683] \n",
      "\n",
      "Mean cv train score: 0.8135132284051597\n",
      "Std cv train score: 0.019474800239742577 \n",
      "\n",
      "Mean cv test score: 0.8024193548387097\n",
      "Std cv test score: 0.04420490645886218 \n",
      "\n"
     ]
    }
   ],
   "source": [
    "cross_validate(nb, X_test, y_test, X_train, y_train, 'roc_auc')"
   ]
  },
  {
   "cell_type": "code",
   "execution_count": 61,
   "metadata": {},
   "outputs": [
    {
     "name": "stdout",
     "output_type": "stream",
     "text": [
      "[[121  34]\n",
      " [ 97 220]]\n",
      "              precision    recall  f1-score   support\n",
      "\n",
      "           0       0.56      0.78      0.65       155\n",
      "           1       0.87      0.69      0.77       317\n",
      "\n",
      "    accuracy                           0.72       472\n",
      "   macro avg       0.71      0.74      0.71       472\n",
      "weighted avg       0.76      0.72      0.73       472\n",
      "\n"
     ]
    }
   ],
   "source": [
    "y_pred_nb = nb.predict(X_test)\n",
    "cfn_mtx(y_test, y_pred_nb)"
   ]
  },
  {
   "cell_type": "markdown",
   "metadata": {},
   "source": [
    "### Gradient Boosting"
   ]
  },
  {
   "cell_type": "code",
   "execution_count": 50,
   "metadata": {},
   "outputs": [
    {
     "data": {
      "text/plain": [
       "0.7733050847457628"
      ]
     },
     "execution_count": 50,
     "metadata": {},
     "output_type": "execute_result"
    }
   ],
   "source": [
    "gb = GradientBoostingClassifier(subsample=0.8, learning_rate=0.05 , n_estimators=160, random_state=5, max_depth=9, max_leaf_nodes=100)\n",
    "gb.fit(X_train, y_train)\n",
    "gb.score(X_test, y_test)"
   ]
  },
  {
   "cell_type": "code",
   "execution_count": 51,
   "metadata": {},
   "outputs": [
    {
     "name": "stdout",
     "output_type": "stream",
     "text": [
      "Cross validation scores for training set: [0.81115614 0.82484437 0.83978495 0.82477101 0.8156682 ]\n",
      "Cross validation scores for test set: [0.75504032 0.8109879  0.84178187 0.83256528 0.78545827] \n",
      "\n",
      "Mean cv train score: 0.8232449332997203\n",
      "Std cv train score: 0.009818399781713859 \n",
      "\n",
      "Mean cv test score: 0.805166730670763\n",
      "Std cv test score: 0.031705885083458916 \n",
      "\n"
     ]
    }
   ],
   "source": [
    "cross_validate(gb, X_test, y_test, X_train, y_train, 'roc_auc')"
   ]
  },
  {
   "cell_type": "code",
   "execution_count": 62,
   "metadata": {},
   "outputs": [
    {
     "name": "stdout",
     "output_type": "stream",
     "text": [
      "[[ 90  65]\n",
      " [ 42 275]]\n",
      "              precision    recall  f1-score   support\n",
      "\n",
      "           0       0.68      0.58      0.63       155\n",
      "           1       0.81      0.87      0.84       317\n",
      "\n",
      "    accuracy                           0.77       472\n",
      "   macro avg       0.75      0.72      0.73       472\n",
      "weighted avg       0.77      0.77      0.77       472\n",
      "\n"
     ]
    }
   ],
   "source": [
    "y_pred_gb = gb.predict(X_test)\n",
    "cfn_mtx(y_test, y_pred_gb)"
   ]
  }
 ],
 "metadata": {
  "kernelspec": {
   "display_name": "Python 3",
   "language": "python",
   "name": "python3"
  },
  "language_info": {
   "codemirror_mode": {
    "name": "ipython",
    "version": 3
   },
   "file_extension": ".py",
   "mimetype": "text/x-python",
   "name": "python",
   "nbconvert_exporter": "python",
   "pygments_lexer": "ipython3",
   "version": "3.7.7"
  }
 },
 "nbformat": 4,
 "nbformat_minor": 4
}
